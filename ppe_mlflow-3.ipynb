{
  "nbformat": 4,
  "nbformat_minor": 0,
  "metadata": {
    "colab": {
      "provenance": [],
      "gpuType": "T4"
    },
    "kernelspec": {
      "name": "python3",
      "display_name": "Python 3"
    },
    "language_info": {
      "name": "python"
    },
    "accelerator": "GPU"
  },
  "cells": [
    {
      "cell_type": "code",
      "source": [
        "# !pip install -q roboflow\n",
        "# !pip install mlflow\n",
        "# !pip install ultralytics\n",
        "# !pip install dvc\n",
        "# !pip install pyngrok"
      ],
      "metadata": {
        "id": "knIKr5uO_Kvc",
        "colab": {
          "base_uri": "https://localhost:8080/",
          "height": 1000
        },
        "outputId": "b05b184e-3cec-49f1-a77f-9dda043d0f77"
      },
      "execution_count": 1,
      "outputs": [
        {
          "output_type": "stream",
          "name": "stdout",
          "text": [
            "\u001b[?25l     \u001b[90m━━━━━━━━━━━━━━━━━━━━━━━━━━━━━━━━━━━━━━━━\u001b[0m \u001b[32m0.0/72.0 kB\u001b[0m \u001b[31m?\u001b[0m eta \u001b[36m-:--:--\u001b[0m\r\u001b[2K     \u001b[91m━━━━━━━━━━━━━━━━━━━━━━━━━━━━━━━━━━━━━━━\u001b[0m\u001b[91m╸\u001b[0m \u001b[32m71.7/72.0 kB\u001b[0m \u001b[31m2.1 MB/s\u001b[0m eta \u001b[36m0:00:01\u001b[0m\r\u001b[2K     \u001b[90m━━━━━━━━━━━━━━━━━━━━━━━━━━━━━━━━━━━━━━━━\u001b[0m \u001b[32m72.0/72.0 kB\u001b[0m \u001b[31m1.5 MB/s\u001b[0m eta \u001b[36m0:00:00\u001b[0m\n",
            "\u001b[?25h\u001b[?25l     \u001b[90m━━━━━━━━━━━━━━━━━━━━━━━━━━━━━━━━━━━━━━━━\u001b[0m \u001b[32m0.0/158.3 kB\u001b[0m \u001b[31m?\u001b[0m eta \u001b[36m-:--:--\u001b[0m\r\u001b[2K     \u001b[90m━━━━━━━━━━━━━━━━━━━━━━━━━━━━━━━━━━━━━━━━\u001b[0m \u001b[32m158.3/158.3 kB\u001b[0m \u001b[31m10.1 MB/s\u001b[0m eta \u001b[36m0:00:00\u001b[0m\n",
            "\u001b[2K     \u001b[90m━━━━━━━━━━━━━━━━━━━━━━━━━━━━━━━━━━━━━━━━\u001b[0m \u001b[32m178.7/178.7 kB\u001b[0m \u001b[31m21.7 MB/s\u001b[0m eta \u001b[36m0:00:00\u001b[0m\n",
            "\u001b[2K     \u001b[90m━━━━━━━━━━━━━━━━━━━━━━━━━━━━━━━━━━━━━━━━\u001b[0m \u001b[32m58.8/58.8 kB\u001b[0m \u001b[31m7.6 MB/s\u001b[0m eta \u001b[36m0:00:00\u001b[0m\n",
            "\u001b[2K     \u001b[90m━━━━━━━━━━━━━━━━━━━━━━━━━━━━━━━━━━━━━━━━\u001b[0m \u001b[32m49.1/49.1 MB\u001b[0m \u001b[31m13.7 MB/s\u001b[0m eta \u001b[36m0:00:00\u001b[0m\n",
            "\u001b[2K     \u001b[90m━━━━━━━━━━━━━━━━━━━━━━━━━━━━━━━━━━━━━━━━\u001b[0m \u001b[32m54.5/54.5 kB\u001b[0m \u001b[31m6.3 MB/s\u001b[0m eta \u001b[36m0:00:00\u001b[0m\n",
            "\u001b[?25hCollecting mlflow\n",
            "  Downloading mlflow-2.11.3-py3-none-any.whl (19.7 MB)\n",
            "\u001b[2K     \u001b[90m━━━━━━━━━━━━━━━━━━━━━━━━━━━━━━━━━━━━━━━━\u001b[0m \u001b[32m19.7/19.7 MB\u001b[0m \u001b[31m66.0 MB/s\u001b[0m eta \u001b[36m0:00:00\u001b[0m\n",
            "\u001b[?25hRequirement already satisfied: click<9,>=7.0 in /usr/local/lib/python3.10/dist-packages (from mlflow) (8.1.7)\n",
            "Requirement already satisfied: cloudpickle<4 in /usr/local/lib/python3.10/dist-packages (from mlflow) (2.2.1)\n",
            "Requirement already satisfied: entrypoints<1 in /usr/local/lib/python3.10/dist-packages (from mlflow) (0.4)\n",
            "Collecting gitpython<4,>=3.1.9 (from mlflow)\n",
            "  Downloading GitPython-3.1.42-py3-none-any.whl (195 kB)\n",
            "\u001b[2K     \u001b[90m━━━━━━━━━━━━━━━━━━━━━━━━━━━━━━━━━━━━━━━━\u001b[0m \u001b[32m195.4/195.4 kB\u001b[0m \u001b[31m29.4 MB/s\u001b[0m eta \u001b[36m0:00:00\u001b[0m\n",
            "\u001b[?25hRequirement already satisfied: pyyaml<7,>=5.1 in /usr/local/lib/python3.10/dist-packages (from mlflow) (6.0.1)\n",
            "Requirement already satisfied: protobuf<5,>=3.12.0 in /usr/local/lib/python3.10/dist-packages (from mlflow) (3.20.3)\n",
            "Requirement already satisfied: pytz<2025 in /usr/local/lib/python3.10/dist-packages (from mlflow) (2023.4)\n",
            "Requirement already satisfied: requests<3,>=2.17.3 in /usr/local/lib/python3.10/dist-packages (from mlflow) (2.31.0)\n",
            "Collecting packaging<24 (from mlflow)\n",
            "  Downloading packaging-23.2-py3-none-any.whl (53 kB)\n",
            "\u001b[2K     \u001b[90m━━━━━━━━━━━━━━━━━━━━━━━━━━━━━━━━━━━━━━━━\u001b[0m \u001b[32m53.0/53.0 kB\u001b[0m \u001b[31m7.6 MB/s\u001b[0m eta \u001b[36m0:00:00\u001b[0m\n",
            "\u001b[?25hRequirement already satisfied: importlib-metadata!=4.7.0,<8,>=3.7.0 in /usr/local/lib/python3.10/dist-packages (from mlflow) (7.1.0)\n",
            "Requirement already satisfied: sqlparse<1,>=0.4.0 in /usr/local/lib/python3.10/dist-packages (from mlflow) (0.4.4)\n",
            "Collecting alembic!=1.10.0,<2 (from mlflow)\n",
            "  Downloading alembic-1.13.1-py3-none-any.whl (233 kB)\n",
            "\u001b[2K     \u001b[90m━━━━━━━━━━━━━━━━━━━━━━━━━━━━━━━━━━━━━━━━\u001b[0m \u001b[32m233.4/233.4 kB\u001b[0m \u001b[31m33.8 MB/s\u001b[0m eta \u001b[36m0:00:00\u001b[0m\n",
            "\u001b[?25hCollecting docker<8,>=4.0.0 (from mlflow)\n",
            "  Downloading docker-7.0.0-py3-none-any.whl (147 kB)\n",
            "\u001b[2K     \u001b[90m━━━━━━━━━━━━━━━━━━━━━━━━━━━━━━━━━━━━━━━━\u001b[0m \u001b[32m147.6/147.6 kB\u001b[0m \u001b[31m22.7 MB/s\u001b[0m eta \u001b[36m0:00:00\u001b[0m\n",
            "\u001b[?25hRequirement already satisfied: Flask<4 in /usr/local/lib/python3.10/dist-packages (from mlflow) (2.2.5)\n",
            "Requirement already satisfied: numpy<2 in /usr/local/lib/python3.10/dist-packages (from mlflow) (1.25.2)\n",
            "Requirement already satisfied: scipy<2 in /usr/local/lib/python3.10/dist-packages (from mlflow) (1.11.4)\n",
            "Requirement already satisfied: pandas<3 in /usr/local/lib/python3.10/dist-packages (from mlflow) (1.5.3)\n",
            "Collecting querystring-parser<2 (from mlflow)\n",
            "  Downloading querystring_parser-1.2.4-py2.py3-none-any.whl (7.9 kB)\n",
            "Requirement already satisfied: sqlalchemy<3,>=1.4.0 in /usr/local/lib/python3.10/dist-packages (from mlflow) (2.0.29)\n",
            "Requirement already satisfied: scikit-learn<2 in /usr/local/lib/python3.10/dist-packages (from mlflow) (1.2.2)\n",
            "Requirement already satisfied: pyarrow<16,>=4.0.0 in /usr/local/lib/python3.10/dist-packages (from mlflow) (14.0.2)\n",
            "Requirement already satisfied: markdown<4,>=3.3 in /usr/local/lib/python3.10/dist-packages (from mlflow) (3.6)\n",
            "Requirement already satisfied: matplotlib<4 in /usr/local/lib/python3.10/dist-packages (from mlflow) (3.7.1)\n",
            "Collecting graphene<4 (from mlflow)\n",
            "  Downloading graphene-3.3-py2.py3-none-any.whl (128 kB)\n",
            "\u001b[2K     \u001b[90m━━━━━━━━━━━━━━━━━━━━━━━━━━━━━━━━━━━━━━━━\u001b[0m \u001b[32m128.2/128.2 kB\u001b[0m \u001b[31m20.7 MB/s\u001b[0m eta \u001b[36m0:00:00\u001b[0m\n",
            "\u001b[?25hCollecting gunicorn<22 (from mlflow)\n",
            "  Downloading gunicorn-21.2.0-py3-none-any.whl (80 kB)\n",
            "\u001b[2K     \u001b[90m━━━━━━━━━━━━━━━━━━━━━━━━━━━━━━━━━━━━━━━━\u001b[0m \u001b[32m80.2/80.2 kB\u001b[0m \u001b[31m14.0 MB/s\u001b[0m eta \u001b[36m0:00:00\u001b[0m\n",
            "\u001b[?25hRequirement already satisfied: Jinja2<4,>=2.11 in /usr/local/lib/python3.10/dist-packages (from mlflow) (3.1.3)\n",
            "Collecting Mako (from alembic!=1.10.0,<2->mlflow)\n",
            "  Downloading Mako-1.3.2-py3-none-any.whl (78 kB)\n",
            "\u001b[2K     \u001b[90m━━━━━━━━━━━━━━━━━━━━━━━━━━━━━━━━━━━━━━━━\u001b[0m \u001b[32m78.7/78.7 kB\u001b[0m \u001b[31m13.4 MB/s\u001b[0m eta \u001b[36m0:00:00\u001b[0m\n",
            "\u001b[?25hRequirement already satisfied: typing-extensions>=4 in /usr/local/lib/python3.10/dist-packages (from alembic!=1.10.0,<2->mlflow) (4.10.0)\n",
            "Requirement already satisfied: urllib3>=1.26.0 in /usr/local/lib/python3.10/dist-packages (from docker<8,>=4.0.0->mlflow) (2.0.7)\n",
            "Requirement already satisfied: Werkzeug>=2.2.2 in /usr/local/lib/python3.10/dist-packages (from Flask<4->mlflow) (3.0.1)\n",
            "Requirement already satisfied: itsdangerous>=2.0 in /usr/local/lib/python3.10/dist-packages (from Flask<4->mlflow) (2.1.2)\n",
            "Collecting gitdb<5,>=4.0.1 (from gitpython<4,>=3.1.9->mlflow)\n",
            "  Downloading gitdb-4.0.11-py3-none-any.whl (62 kB)\n",
            "\u001b[2K     \u001b[90m━━━━━━━━━━━━━━━━━━━━━━━━━━━━━━━━━━━━━━━━\u001b[0m \u001b[32m62.7/62.7 kB\u001b[0m \u001b[31m10.3 MB/s\u001b[0m eta \u001b[36m0:00:00\u001b[0m\n",
            "\u001b[?25hCollecting graphql-core<3.3,>=3.1 (from graphene<4->mlflow)\n",
            "  Downloading graphql_core-3.2.3-py3-none-any.whl (202 kB)\n",
            "\u001b[2K     \u001b[90m━━━━━━━━━━━━━━━━━━━━━━━━━━━━━━━━━━━━━━━━\u001b[0m \u001b[32m202.9/202.9 kB\u001b[0m \u001b[31m30.8 MB/s\u001b[0m eta \u001b[36m0:00:00\u001b[0m\n",
            "\u001b[?25hCollecting graphql-relay<3.3,>=3.1 (from graphene<4->mlflow)\n",
            "  Downloading graphql_relay-3.2.0-py3-none-any.whl (16 kB)\n",
            "Collecting aniso8601<10,>=8 (from graphene<4->mlflow)\n",
            "  Downloading aniso8601-9.0.1-py2.py3-none-any.whl (52 kB)\n",
            "\u001b[2K     \u001b[90m━━━━━━━━━━━━━━━━━━━━━━━━━━━━━━━━━━━━━━━━\u001b[0m \u001b[32m52.8/52.8 kB\u001b[0m \u001b[31m9.7 MB/s\u001b[0m eta \u001b[36m0:00:00\u001b[0m\n",
            "\u001b[?25hRequirement already satisfied: zipp>=0.5 in /usr/local/lib/python3.10/dist-packages (from importlib-metadata!=4.7.0,<8,>=3.7.0->mlflow) (3.18.1)\n",
            "Requirement already satisfied: MarkupSafe>=2.0 in /usr/local/lib/python3.10/dist-packages (from Jinja2<4,>=2.11->mlflow) (2.1.5)\n",
            "Requirement already satisfied: contourpy>=1.0.1 in /usr/local/lib/python3.10/dist-packages (from matplotlib<4->mlflow) (1.2.0)\n",
            "Requirement already satisfied: cycler>=0.10 in /usr/local/lib/python3.10/dist-packages (from matplotlib<4->mlflow) (0.10.0)\n",
            "Requirement already satisfied: fonttools>=4.22.0 in /usr/local/lib/python3.10/dist-packages (from matplotlib<4->mlflow) (4.50.0)\n",
            "Requirement already satisfied: kiwisolver>=1.0.1 in /usr/local/lib/python3.10/dist-packages (from matplotlib<4->mlflow) (1.4.5)\n",
            "Requirement already satisfied: pillow>=6.2.0 in /usr/local/lib/python3.10/dist-packages (from matplotlib<4->mlflow) (9.4.0)\n",
            "Requirement already satisfied: pyparsing>=2.3.1 in /usr/local/lib/python3.10/dist-packages (from matplotlib<4->mlflow) (3.1.2)\n",
            "Requirement already satisfied: python-dateutil>=2.7 in /usr/local/lib/python3.10/dist-packages (from matplotlib<4->mlflow) (2.8.2)\n",
            "Requirement already satisfied: six in /usr/local/lib/python3.10/dist-packages (from querystring-parser<2->mlflow) (1.16.0)\n",
            "Requirement already satisfied: charset-normalizer<4,>=2 in /usr/local/lib/python3.10/dist-packages (from requests<3,>=2.17.3->mlflow) (3.3.2)\n",
            "Requirement already satisfied: idna<4,>=2.5 in /usr/local/lib/python3.10/dist-packages (from requests<3,>=2.17.3->mlflow) (2.10)\n",
            "Requirement already satisfied: certifi>=2017.4.17 in /usr/local/lib/python3.10/dist-packages (from requests<3,>=2.17.3->mlflow) (2023.7.22)\n",
            "Requirement already satisfied: joblib>=1.1.1 in /usr/local/lib/python3.10/dist-packages (from scikit-learn<2->mlflow) (1.3.2)\n",
            "Requirement already satisfied: threadpoolctl>=2.0.0 in /usr/local/lib/python3.10/dist-packages (from scikit-learn<2->mlflow) (3.4.0)\n",
            "Requirement already satisfied: greenlet!=0.4.17 in /usr/local/lib/python3.10/dist-packages (from sqlalchemy<3,>=1.4.0->mlflow) (3.0.3)\n",
            "Collecting smmap<6,>=3.0.1 (from gitdb<5,>=4.0.1->gitpython<4,>=3.1.9->mlflow)\n",
            "  Downloading smmap-5.0.1-py3-none-any.whl (24 kB)\n",
            "Installing collected packages: aniso8601, smmap, querystring-parser, packaging, Mako, graphql-core, gunicorn, graphql-relay, gitdb, docker, alembic, graphene, gitpython, mlflow\n",
            "  Attempting uninstall: packaging\n",
            "    Found existing installation: packaging 24.0\n",
            "    Uninstalling packaging-24.0:\n",
            "      Successfully uninstalled packaging-24.0\n",
            "Successfully installed Mako-1.3.2 alembic-1.13.1 aniso8601-9.0.1 docker-7.0.0 gitdb-4.0.11 gitpython-3.1.42 graphene-3.3 graphql-core-3.2.3 graphql-relay-3.2.0 gunicorn-21.2.0 mlflow-2.11.3 packaging-23.2 querystring-parser-1.2.4 smmap-5.0.1\n",
            "Collecting ultralytics\n",
            "  Downloading ultralytics-8.1.37-py3-none-any.whl (723 kB)\n",
            "\u001b[2K     \u001b[90m━━━━━━━━━━━━━━━━━━━━━━━━━━━━━━━━━━━━━━━━\u001b[0m \u001b[32m723.1/723.1 kB\u001b[0m \u001b[31m15.6 MB/s\u001b[0m eta \u001b[36m0:00:00\u001b[0m\n",
            "\u001b[?25hRequirement already satisfied: matplotlib>=3.3.0 in /usr/local/lib/python3.10/dist-packages (from ultralytics) (3.7.1)\n",
            "Requirement already satisfied: opencv-python>=4.6.0 in /usr/local/lib/python3.10/dist-packages (from ultralytics) (4.8.0.76)\n",
            "Requirement already satisfied: pillow>=7.1.2 in /usr/local/lib/python3.10/dist-packages (from ultralytics) (9.4.0)\n",
            "Requirement already satisfied: pyyaml>=5.3.1 in /usr/local/lib/python3.10/dist-packages (from ultralytics) (6.0.1)\n",
            "Requirement already satisfied: requests>=2.23.0 in /usr/local/lib/python3.10/dist-packages (from ultralytics) (2.31.0)\n",
            "Requirement already satisfied: scipy>=1.4.1 in /usr/local/lib/python3.10/dist-packages (from ultralytics) (1.11.4)\n",
            "Requirement already satisfied: torch>=1.8.0 in /usr/local/lib/python3.10/dist-packages (from ultralytics) (2.2.1+cu121)\n",
            "Requirement already satisfied: torchvision>=0.9.0 in /usr/local/lib/python3.10/dist-packages (from ultralytics) (0.17.1+cu121)\n",
            "Requirement already satisfied: tqdm>=4.64.0 in /usr/local/lib/python3.10/dist-packages (from ultralytics) (4.66.2)\n",
            "Requirement already satisfied: psutil in /usr/local/lib/python3.10/dist-packages (from ultralytics) (5.9.5)\n",
            "Requirement already satisfied: py-cpuinfo in /usr/local/lib/python3.10/dist-packages (from ultralytics) (9.0.0)\n",
            "Collecting thop>=0.1.1 (from ultralytics)\n",
            "  Downloading thop-0.1.1.post2209072238-py3-none-any.whl (15 kB)\n",
            "Requirement already satisfied: pandas>=1.1.4 in /usr/local/lib/python3.10/dist-packages (from ultralytics) (1.5.3)\n",
            "Requirement already satisfied: seaborn>=0.11.0 in /usr/local/lib/python3.10/dist-packages (from ultralytics) (0.13.1)\n",
            "Requirement already satisfied: contourpy>=1.0.1 in /usr/local/lib/python3.10/dist-packages (from matplotlib>=3.3.0->ultralytics) (1.2.0)\n",
            "Requirement already satisfied: cycler>=0.10 in /usr/local/lib/python3.10/dist-packages (from matplotlib>=3.3.0->ultralytics) (0.10.0)\n",
            "Requirement already satisfied: fonttools>=4.22.0 in /usr/local/lib/python3.10/dist-packages (from matplotlib>=3.3.0->ultralytics) (4.50.0)\n",
            "Requirement already satisfied: kiwisolver>=1.0.1 in /usr/local/lib/python3.10/dist-packages (from matplotlib>=3.3.0->ultralytics) (1.4.5)\n",
            "Requirement already satisfied: numpy>=1.20 in /usr/local/lib/python3.10/dist-packages (from matplotlib>=3.3.0->ultralytics) (1.25.2)\n",
            "Requirement already satisfied: packaging>=20.0 in /usr/local/lib/python3.10/dist-packages (from matplotlib>=3.3.0->ultralytics) (23.2)\n",
            "Requirement already satisfied: pyparsing>=2.3.1 in /usr/local/lib/python3.10/dist-packages (from matplotlib>=3.3.0->ultralytics) (3.1.2)\n",
            "Requirement already satisfied: python-dateutil>=2.7 in /usr/local/lib/python3.10/dist-packages (from matplotlib>=3.3.0->ultralytics) (2.8.2)\n",
            "Requirement already satisfied: pytz>=2020.1 in /usr/local/lib/python3.10/dist-packages (from pandas>=1.1.4->ultralytics) (2023.4)\n",
            "Requirement already satisfied: charset-normalizer<4,>=2 in /usr/local/lib/python3.10/dist-packages (from requests>=2.23.0->ultralytics) (3.3.2)\n",
            "Requirement already satisfied: idna<4,>=2.5 in /usr/local/lib/python3.10/dist-packages (from requests>=2.23.0->ultralytics) (2.10)\n",
            "Requirement already satisfied: urllib3<3,>=1.21.1 in /usr/local/lib/python3.10/dist-packages (from requests>=2.23.0->ultralytics) (2.0.7)\n",
            "Requirement already satisfied: certifi>=2017.4.17 in /usr/local/lib/python3.10/dist-packages (from requests>=2.23.0->ultralytics) (2023.7.22)\n",
            "Requirement already satisfied: filelock in /usr/local/lib/python3.10/dist-packages (from torch>=1.8.0->ultralytics) (3.13.3)\n",
            "Requirement already satisfied: typing-extensions>=4.8.0 in /usr/local/lib/python3.10/dist-packages (from torch>=1.8.0->ultralytics) (4.10.0)\n",
            "Requirement already satisfied: sympy in /usr/local/lib/python3.10/dist-packages (from torch>=1.8.0->ultralytics) (1.12)\n",
            "Requirement already satisfied: networkx in /usr/local/lib/python3.10/dist-packages (from torch>=1.8.0->ultralytics) (3.2.1)\n",
            "Requirement already satisfied: jinja2 in /usr/local/lib/python3.10/dist-packages (from torch>=1.8.0->ultralytics) (3.1.3)\n",
            "Requirement already satisfied: fsspec in /usr/local/lib/python3.10/dist-packages (from torch>=1.8.0->ultralytics) (2023.6.0)\n",
            "Collecting nvidia-cuda-nvrtc-cu12==12.1.105 (from torch>=1.8.0->ultralytics)\n",
            "  Downloading nvidia_cuda_nvrtc_cu12-12.1.105-py3-none-manylinux1_x86_64.whl (23.7 MB)\n",
            "\u001b[2K     \u001b[90m━━━━━━━━━━━━━━━━━━━━━━━━━━━━━━━━━━━━━━━━\u001b[0m \u001b[32m23.7/23.7 MB\u001b[0m \u001b[31m59.6 MB/s\u001b[0m eta \u001b[36m0:00:00\u001b[0m\n",
            "\u001b[?25hCollecting nvidia-cuda-runtime-cu12==12.1.105 (from torch>=1.8.0->ultralytics)\n",
            "  Downloading nvidia_cuda_runtime_cu12-12.1.105-py3-none-manylinux1_x86_64.whl (823 kB)\n",
            "\u001b[2K     \u001b[90m━━━━━━━━━━━━━━━━━━━━━━━━━━━━━━━━━━━━━━━━\u001b[0m \u001b[32m823.6/823.6 kB\u001b[0m \u001b[31m64.5 MB/s\u001b[0m eta \u001b[36m0:00:00\u001b[0m\n",
            "\u001b[?25hCollecting nvidia-cuda-cupti-cu12==12.1.105 (from torch>=1.8.0->ultralytics)\n",
            "  Downloading nvidia_cuda_cupti_cu12-12.1.105-py3-none-manylinux1_x86_64.whl (14.1 MB)\n",
            "\u001b[2K     \u001b[90m━━━━━━━━━━━━━━━━━━━━━━━━━━━━━━━━━━━━━━━━\u001b[0m \u001b[32m14.1/14.1 MB\u001b[0m \u001b[31m86.9 MB/s\u001b[0m eta \u001b[36m0:00:00\u001b[0m\n",
            "\u001b[?25hCollecting nvidia-cudnn-cu12==8.9.2.26 (from torch>=1.8.0->ultralytics)\n",
            "  Downloading nvidia_cudnn_cu12-8.9.2.26-py3-none-manylinux1_x86_64.whl (731.7 MB)\n",
            "\u001b[2K     \u001b[90m━━━━━━━━━━━━━━━━━━━━━━━━━━━━━━━━━━━━━━━━\u001b[0m \u001b[32m731.7/731.7 MB\u001b[0m \u001b[31m755.1 kB/s\u001b[0m eta \u001b[36m0:00:00\u001b[0m\n",
            "\u001b[?25hCollecting nvidia-cublas-cu12==12.1.3.1 (from torch>=1.8.0->ultralytics)\n",
            "  Downloading nvidia_cublas_cu12-12.1.3.1-py3-none-manylinux1_x86_64.whl (410.6 MB)\n",
            "\u001b[2K     \u001b[90m━━━━━━━━━━━━━━━━━━━━━━━━━━━━━━━━━━━━━━━━\u001b[0m \u001b[32m410.6/410.6 MB\u001b[0m \u001b[31m3.1 MB/s\u001b[0m eta \u001b[36m0:00:00\u001b[0m\n",
            "\u001b[?25hCollecting nvidia-cufft-cu12==11.0.2.54 (from torch>=1.8.0->ultralytics)\n",
            "  Downloading nvidia_cufft_cu12-11.0.2.54-py3-none-manylinux1_x86_64.whl (121.6 MB)\n",
            "\u001b[2K     \u001b[90m━━━━━━━━━━━━━━━━━━━━━━━━━━━━━━━━━━━━━━━━\u001b[0m \u001b[32m121.6/121.6 MB\u001b[0m \u001b[31m8.1 MB/s\u001b[0m eta \u001b[36m0:00:00\u001b[0m\n",
            "\u001b[?25hCollecting nvidia-curand-cu12==10.3.2.106 (from torch>=1.8.0->ultralytics)\n",
            "  Downloading nvidia_curand_cu12-10.3.2.106-py3-none-manylinux1_x86_64.whl (56.5 MB)\n",
            "\u001b[2K     \u001b[90m━━━━━━━━━━━━━━━━━━━━━━━━━━━━━━━━━━━━━━━━\u001b[0m \u001b[32m56.5/56.5 MB\u001b[0m \u001b[31m12.2 MB/s\u001b[0m eta \u001b[36m0:00:00\u001b[0m\n",
            "\u001b[?25hCollecting nvidia-cusolver-cu12==11.4.5.107 (from torch>=1.8.0->ultralytics)\n",
            "  Downloading nvidia_cusolver_cu12-11.4.5.107-py3-none-manylinux1_x86_64.whl (124.2 MB)\n",
            "\u001b[2K     \u001b[90m━━━━━━━━━━━━━━━━━━━━━━━━━━━━━━━━━━━━━━━━\u001b[0m \u001b[32m124.2/124.2 MB\u001b[0m \u001b[31m7.8 MB/s\u001b[0m eta \u001b[36m0:00:00\u001b[0m\n",
            "\u001b[?25hCollecting nvidia-cusparse-cu12==12.1.0.106 (from torch>=1.8.0->ultralytics)\n",
            "  Downloading nvidia_cusparse_cu12-12.1.0.106-py3-none-manylinux1_x86_64.whl (196.0 MB)\n",
            "\u001b[2K     \u001b[90m━━━━━━━━━━━━━━━━━━━━━━━━━━━━━━━━━━━━━━━━\u001b[0m \u001b[32m196.0/196.0 MB\u001b[0m \u001b[31m7.0 MB/s\u001b[0m eta \u001b[36m0:00:00\u001b[0m\n",
            "\u001b[?25hCollecting nvidia-nccl-cu12==2.19.3 (from torch>=1.8.0->ultralytics)\n",
            "  Downloading nvidia_nccl_cu12-2.19.3-py3-none-manylinux1_x86_64.whl (166.0 MB)\n",
            "\u001b[2K     \u001b[90m━━━━━━━━━━━━━━━━━━━━━━━━━━━━━━━━━━━━━━━━\u001b[0m \u001b[32m166.0/166.0 MB\u001b[0m \u001b[31m7.3 MB/s\u001b[0m eta \u001b[36m0:00:00\u001b[0m\n",
            "\u001b[?25hCollecting nvidia-nvtx-cu12==12.1.105 (from torch>=1.8.0->ultralytics)\n",
            "  Downloading nvidia_nvtx_cu12-12.1.105-py3-none-manylinux1_x86_64.whl (99 kB)\n",
            "\u001b[2K     \u001b[90m━━━━━━━━━━━━━━━━━━━━━━━━━━━━━━━━━━━━━━━━\u001b[0m \u001b[32m99.1/99.1 kB\u001b[0m \u001b[31m14.7 MB/s\u001b[0m eta \u001b[36m0:00:00\u001b[0m\n",
            "\u001b[?25hRequirement already satisfied: triton==2.2.0 in /usr/local/lib/python3.10/dist-packages (from torch>=1.8.0->ultralytics) (2.2.0)\n",
            "Collecting nvidia-nvjitlink-cu12 (from nvidia-cusolver-cu12==11.4.5.107->torch>=1.8.0->ultralytics)\n",
            "  Downloading nvidia_nvjitlink_cu12-12.4.99-py3-none-manylinux2014_x86_64.whl (21.1 MB)\n",
            "\u001b[2K     \u001b[90m━━━━━━━━━━━━━━━━━━━━━━━━━━━━━━━━━━━━━━━━\u001b[0m \u001b[32m21.1/21.1 MB\u001b[0m \u001b[31m52.1 MB/s\u001b[0m eta \u001b[36m0:00:00\u001b[0m\n",
            "\u001b[?25hRequirement already satisfied: six in /usr/local/lib/python3.10/dist-packages (from cycler>=0.10->matplotlib>=3.3.0->ultralytics) (1.16.0)\n",
            "Requirement already satisfied: MarkupSafe>=2.0 in /usr/local/lib/python3.10/dist-packages (from jinja2->torch>=1.8.0->ultralytics) (2.1.5)\n",
            "Requirement already satisfied: mpmath>=0.19 in /usr/local/lib/python3.10/dist-packages (from sympy->torch>=1.8.0->ultralytics) (1.3.0)\n",
            "Installing collected packages: nvidia-nvtx-cu12, nvidia-nvjitlink-cu12, nvidia-nccl-cu12, nvidia-curand-cu12, nvidia-cufft-cu12, nvidia-cuda-runtime-cu12, nvidia-cuda-nvrtc-cu12, nvidia-cuda-cupti-cu12, nvidia-cublas-cu12, nvidia-cusparse-cu12, nvidia-cudnn-cu12, nvidia-cusolver-cu12, thop, ultralytics\n",
            "Successfully installed nvidia-cublas-cu12-12.1.3.1 nvidia-cuda-cupti-cu12-12.1.105 nvidia-cuda-nvrtc-cu12-12.1.105 nvidia-cuda-runtime-cu12-12.1.105 nvidia-cudnn-cu12-8.9.2.26 nvidia-cufft-cu12-11.0.2.54 nvidia-curand-cu12-10.3.2.106 nvidia-cusolver-cu12-11.4.5.107 nvidia-cusparse-cu12-12.1.0.106 nvidia-nccl-cu12-2.19.3 nvidia-nvjitlink-cu12-12.4.99 nvidia-nvtx-cu12-12.1.105 thop-0.1.1.post2209072238 ultralytics-8.1.37\n",
            "Collecting dvc\n",
            "  Downloading dvc-3.49.0-py3-none-any.whl (450 kB)\n",
            "\u001b[2K     \u001b[90m━━━━━━━━━━━━━━━━━━━━━━━━━━━━━━━━━━━━━━━━\u001b[0m \u001b[32m450.8/450.8 kB\u001b[0m \u001b[31m10.2 MB/s\u001b[0m eta \u001b[36m0:00:00\u001b[0m\n",
            "\u001b[?25hRequirement already satisfied: attrs>=22.2.0 in /usr/local/lib/python3.10/dist-packages (from dvc) (23.2.0)\n",
            "Collecting celery (from dvc)\n",
            "  Downloading celery-5.3.6-py3-none-any.whl (422 kB)\n",
            "\u001b[2K     \u001b[90m━━━━━━━━━━━━━━━━━━━━━━━━━━━━━━━━━━━━━━━━\u001b[0m \u001b[32m422.0/422.0 kB\u001b[0m \u001b[31m42.0 MB/s\u001b[0m eta \u001b[36m0:00:00\u001b[0m\n",
            "\u001b[?25hCollecting colorama>=0.3.9 (from dvc)\n",
            "  Downloading colorama-0.4.6-py2.py3-none-any.whl (25 kB)\n",
            "Collecting configobj>=5.0.6 (from dvc)\n",
            "  Downloading configobj-5.0.8-py2.py3-none-any.whl (36 kB)\n",
            "Requirement already satisfied: distro>=1.3 in /usr/lib/python3/dist-packages (from dvc) (1.7.0)\n",
            "Collecting dpath<3,>=2.1.0 (from dvc)\n",
            "  Downloading dpath-2.1.6-py3-none-any.whl (17 kB)\n",
            "Collecting dulwich (from dvc)\n",
            "  Downloading dulwich-0.21.7-cp310-cp310-manylinux_2_17_x86_64.manylinux2014_x86_64.whl (514 kB)\n",
            "\u001b[2K     \u001b[90m━━━━━━━━━━━━━━━━━━━━━━━━━━━━━━━━━━━━━━━━\u001b[0m \u001b[32m514.7/514.7 kB\u001b[0m \u001b[31m49.4 MB/s\u001b[0m eta \u001b[36m0:00:00\u001b[0m\n",
            "\u001b[?25hCollecting dvc-data<3.16,>=3.15 (from dvc)\n",
            "  Downloading dvc_data-3.15.1-py3-none-any.whl (71 kB)\n",
            "\u001b[2K     \u001b[90m━━━━━━━━━━━━━━━━━━━━━━━━━━━━━━━━━━━━━━━━\u001b[0m \u001b[32m71.6/71.6 kB\u001b[0m \u001b[31m11.4 MB/s\u001b[0m eta \u001b[36m0:00:00\u001b[0m\n",
            "\u001b[?25hCollecting dvc-http>=2.29.0 (from dvc)\n",
            "  Downloading dvc_http-2.32.0-py3-none-any.whl (12 kB)\n",
            "Collecting dvc-objects (from dvc)\n",
            "  Downloading dvc_objects-5.1.0-py3-none-any.whl (33 kB)\n",
            "Collecting dvc-render<2,>=1.0.1 (from dvc)\n",
            "  Downloading dvc_render-1.0.1-py3-none-any.whl (22 kB)\n",
            "Collecting dvc-studio-client<1,>=0.20 (from dvc)\n",
            "  Downloading dvc_studio_client-0.20.0-py3-none-any.whl (16 kB)\n",
            "Collecting dvc-task<1,>=0.3.0 (from dvc)\n",
            "  Downloading dvc_task-0.4.0-py3-none-any.whl (21 kB)\n",
            "Collecting flatten-dict<1,>=0.4.1 (from dvc)\n",
            "  Downloading flatten_dict-0.4.2-py2.py3-none-any.whl (9.7 kB)\n",
            "Collecting flufl.lock<8,>=5 (from dvc)\n",
            "  Downloading flufl.lock-7.1.1-py3-none-any.whl (11 kB)\n",
            "Requirement already satisfied: fsspec in /usr/local/lib/python3.10/dist-packages (from dvc) (2023.6.0)\n",
            "Collecting funcy>=1.14 (from dvc)\n",
            "  Downloading funcy-2.0-py2.py3-none-any.whl (30 kB)\n",
            "Collecting grandalf<1,>=0.7 (from dvc)\n",
            "  Downloading grandalf-0.8-py3-none-any.whl (41 kB)\n",
            "\u001b[2K     \u001b[90m━━━━━━━━━━━━━━━━━━━━━━━━━━━━━━━━━━━━━━━━\u001b[0m \u001b[32m41.8/41.8 kB\u001b[0m \u001b[31m7.0 MB/s\u001b[0m eta \u001b[36m0:00:00\u001b[0m\n",
            "\u001b[?25hCollecting gto<2,>=1.6.0 (from dvc)\n",
            "  Downloading gto-1.7.1-py3-none-any.whl (46 kB)\n",
            "\u001b[2K     \u001b[90m━━━━━━━━━━━━━━━━━━━━━━━━━━━━━━━━━━━━━━━━\u001b[0m \u001b[32m46.6/46.6 kB\u001b[0m \u001b[31m7.9 MB/s\u001b[0m eta \u001b[36m0:00:00\u001b[0m\n",
            "\u001b[?25hCollecting hydra-core>=1.1 (from dvc)\n",
            "  Downloading hydra_core-1.3.2-py3-none-any.whl (154 kB)\n",
            "\u001b[2K     \u001b[90m━━━━━━━━━━━━━━━━━━━━━━━━━━━━━━━━━━━━━━━━\u001b[0m \u001b[32m154.5/154.5 kB\u001b[0m \u001b[31m25.6 MB/s\u001b[0m eta \u001b[36m0:00:00\u001b[0m\n",
            "\u001b[?25hCollecting iterative-telemetry>=0.0.7 (from dvc)\n",
            "  Downloading iterative_telemetry-0.0.8-py3-none-any.whl (10 kB)\n",
            "Collecting kombu (from dvc)\n",
            "  Downloading kombu-5.3.6-py3-none-any.whl (200 kB)\n",
            "\u001b[2K     \u001b[90m━━━━━━━━━━━━━━━━━━━━━━━━━━━━━━━━━━━━━━━━\u001b[0m \u001b[32m200.2/200.2 kB\u001b[0m \u001b[31m30.3 MB/s\u001b[0m eta \u001b[36m0:00:00\u001b[0m\n",
            "\u001b[?25hRequirement already satisfied: networkx>=2.5 in /usr/local/lib/python3.10/dist-packages (from dvc) (3.2.1)\n",
            "Collecting omegaconf (from dvc)\n",
            "  Downloading omegaconf-2.3.0-py3-none-any.whl (79 kB)\n",
            "\u001b[2K     \u001b[90m━━━━━━━━━━━━━━━━━━━━━━━━━━━━━━━━━━━━━━━━\u001b[0m \u001b[32m79.5/79.5 kB\u001b[0m \u001b[31m13.0 MB/s\u001b[0m eta \u001b[36m0:00:00\u001b[0m\n",
            "\u001b[?25hRequirement already satisfied: packaging>=19 in /usr/local/lib/python3.10/dist-packages (from dvc) (23.2)\n",
            "Collecting pathspec>=0.10.3 (from dvc)\n",
            "  Downloading pathspec-0.12.1-py3-none-any.whl (31 kB)\n",
            "Collecting platformdirs<4,>=3.1.1 (from dvc)\n",
            "  Downloading platformdirs-3.11.0-py3-none-any.whl (17 kB)\n",
            "Requirement already satisfied: psutil>=5.8 in /usr/local/lib/python3.10/dist-packages (from dvc) (5.9.5)\n",
            "Requirement already satisfied: pydot>=1.2.4 in /usr/local/lib/python3.10/dist-packages (from dvc) (1.4.2)\n",
            "Collecting pygtrie>=2.3.2 (from dvc)\n",
            "  Downloading pygtrie-2.5.0-py3-none-any.whl (25 kB)\n",
            "Requirement already satisfied: pyparsing>=2.4.7 in /usr/local/lib/python3.10/dist-packages (from dvc) (3.1.2)\n",
            "Requirement already satisfied: requests>=2.22 in /usr/local/lib/python3.10/dist-packages (from dvc) (2.31.0)\n",
            "Requirement already satisfied: rich>=12 in /usr/local/lib/python3.10/dist-packages (from dvc) (13.7.1)\n",
            "Collecting ruamel.yaml>=0.17.11 (from dvc)\n",
            "  Downloading ruamel.yaml-0.18.6-py3-none-any.whl (117 kB)\n",
            "\u001b[2K     \u001b[90m━━━━━━━━━━━━━━━━━━━━━━━━━━━━━━━━━━━━━━━━\u001b[0m \u001b[32m117.8/117.8 kB\u001b[0m \u001b[31m14.2 MB/s\u001b[0m eta \u001b[36m0:00:00\u001b[0m\n",
            "\u001b[?25hCollecting scmrepo<4,>=3 (from dvc)\n",
            "  Downloading scmrepo-3.3.1-py3-none-any.whl (73 kB)\n",
            "\u001b[2K     \u001b[90m━━━━━━━━━━━━━━━━━━━━━━━━━━━━━━━━━━━━━━━━\u001b[0m \u001b[32m73.3/73.3 kB\u001b[0m \u001b[31m12.2 MB/s\u001b[0m eta \u001b[36m0:00:00\u001b[0m\n",
            "\u001b[?25hCollecting shortuuid>=0.5 (from dvc)\n",
            "  Downloading shortuuid-1.0.13-py3-none-any.whl (10 kB)\n",
            "Collecting shtab<2,>=1.3.4 (from dvc)\n",
            "  Downloading shtab-1.7.1-py3-none-any.whl (14 kB)\n",
            "Requirement already satisfied: tabulate>=0.8.7 in /usr/local/lib/python3.10/dist-packages (from dvc) (0.9.0)\n",
            "Collecting tomlkit>=0.11.1 (from dvc)\n",
            "  Downloading tomlkit-0.12.4-py3-none-any.whl (37 kB)\n",
            "Requirement already satisfied: tqdm<5,>=4.63.1 in /usr/local/lib/python3.10/dist-packages (from dvc) (4.66.2)\n",
            "Collecting voluptuous>=0.11.7 (from dvc)\n",
            "  Downloading voluptuous-0.14.2-py3-none-any.whl (31 kB)\n",
            "Collecting zc.lockfile>=1.2.1 (from dvc)\n",
            "  Downloading zc.lockfile-3.0.post1-py3-none-any.whl (9.8 kB)\n",
            "Requirement already satisfied: six in /usr/local/lib/python3.10/dist-packages (from configobj>=5.0.6->dvc) (1.16.0)\n",
            "Collecting dictdiffer>=0.8.1 (from dvc-data<3.16,>=3.15->dvc)\n",
            "  Downloading dictdiffer-0.9.0-py2.py3-none-any.whl (16 kB)\n",
            "Collecting fsspec (from dvc)\n",
            "  Downloading fsspec-2024.3.1-py3-none-any.whl (171 kB)\n",
            "\u001b[2K     \u001b[90m━━━━━━━━━━━━━━━━━━━━━━━━━━━━━━━━━━━━━━━━\u001b[0m \u001b[32m172.0/172.0 kB\u001b[0m \u001b[31m22.2 MB/s\u001b[0m eta \u001b[36m0:00:00\u001b[0m\n",
            "\u001b[?25hCollecting diskcache>=5.2.1 (from dvc-data<3.16,>=3.15->dvc)\n",
            "  Downloading diskcache-5.6.3-py3-none-any.whl (45 kB)\n",
            "\u001b[2K     \u001b[90m━━━━━━━━━━━━━━━━━━━━━━━━━━━━━━━━━━━━━━━━\u001b[0m \u001b[32m45.5/45.5 kB\u001b[0m \u001b[31m7.2 MB/s\u001b[0m eta \u001b[36m0:00:00\u001b[0m\n",
            "\u001b[?25hCollecting sqltrie<1,>=0.11.0 (from dvc-data<3.16,>=3.15->dvc)\n",
            "  Downloading sqltrie-0.11.0-py3-none-any.whl (17 kB)\n",
            "Collecting aiohttp-retry>=2.5.0 (from dvc-http>=2.29.0->dvc)\n",
            "  Downloading aiohttp_retry-2.8.3-py3-none-any.whl (9.8 kB)\n",
            "Collecting billiard<5.0,>=4.2.0 (from celery->dvc)\n",
            "  Downloading billiard-4.2.0-py3-none-any.whl (86 kB)\n",
            "\u001b[2K     \u001b[90m━━━━━━━━━━━━━━━━━━━━━━━━━━━━━━━━━━━━━━━━\u001b[0m \u001b[32m86.7/86.7 kB\u001b[0m \u001b[31m15.2 MB/s\u001b[0m eta \u001b[36m0:00:00\u001b[0m\n",
            "\u001b[?25hCollecting click-didyoumean>=0.3.0 (from celery->dvc)\n",
            "  Downloading click_didyoumean-0.3.1-py3-none-any.whl (3.6 kB)\n",
            "Requirement already satisfied: click-plugins>=1.1.1 in /usr/local/lib/python3.10/dist-packages (from celery->dvc) (1.1.1)\n",
            "Collecting click-repl>=0.2.0 (from celery->dvc)\n",
            "  Downloading click_repl-0.3.0-py3-none-any.whl (10 kB)\n",
            "Requirement already satisfied: click<9.0,>=8.1.2 in /usr/local/lib/python3.10/dist-packages (from celery->dvc) (8.1.7)\n",
            "Requirement already satisfied: python-dateutil>=2.8.2 in /usr/local/lib/python3.10/dist-packages (from celery->dvc) (2.8.2)\n",
            "Collecting tzdata>=2022.7 (from celery->dvc)\n",
            "  Downloading tzdata-2024.1-py2.py3-none-any.whl (345 kB)\n",
            "\u001b[2K     \u001b[90m━━━━━━━━━━━━━━━━━━━━━━━━━━━━━━━━━━━━━━━━\u001b[0m \u001b[32m345.4/345.4 kB\u001b[0m \u001b[31m40.8 MB/s\u001b[0m eta \u001b[36m0:00:00\u001b[0m\n",
            "\u001b[?25hCollecting vine<6.0,>=5.1.0 (from celery->dvc)\n",
            "  Downloading vine-5.1.0-py3-none-any.whl (9.6 kB)\n",
            "Requirement already satisfied: atpublic>=2.3 in /usr/local/lib/python3.10/dist-packages (from flufl.lock<8,>=5->dvc) (4.0)\n",
            "Requirement already satisfied: typer>=0.4.1 in /usr/local/lib/python3.10/dist-packages (from gto<2,>=1.6.0->dvc) (0.9.4)\n",
            "Requirement already satisfied: pydantic!=2.0.0,<3,>=1.9.0 in /usr/local/lib/python3.10/dist-packages (from gto<2,>=1.6.0->dvc) (2.6.4)\n",
            "Collecting semver>=2.13.0 (from gto<2,>=1.6.0->dvc)\n",
            "  Downloading semver-3.0.2-py3-none-any.whl (17 kB)\n",
            "Requirement already satisfied: entrypoints in /usr/local/lib/python3.10/dist-packages (from gto<2,>=1.6.0->dvc) (0.4)\n",
            "Collecting antlr4-python3-runtime==4.9.* (from hydra-core>=1.1->dvc)\n",
            "  Downloading antlr4-python3-runtime-4.9.3.tar.gz (117 kB)\n",
            "\u001b[2K     \u001b[90m━━━━━━━━━━━━━━━━━━━━━━━━━━━━━━━━━━━━━━━━\u001b[0m \u001b[32m117.0/117.0 kB\u001b[0m \u001b[31m16.8 MB/s\u001b[0m eta \u001b[36m0:00:00\u001b[0m\n",
            "\u001b[?25h  Preparing metadata (setup.py) ... \u001b[?25l\u001b[?25hdone\n",
            "Requirement already satisfied: appdirs in /usr/local/lib/python3.10/dist-packages (from iterative-telemetry>=0.0.7->dvc) (1.4.4)\n",
            "Requirement already satisfied: filelock in /usr/local/lib/python3.10/dist-packages (from iterative-telemetry>=0.0.7->dvc) (3.13.3)\n",
            "Collecting amqp<6.0.0,>=5.1.1 (from kombu->dvc)\n",
            "  Downloading amqp-5.2.0-py3-none-any.whl (50 kB)\n",
            "\u001b[2K     \u001b[90m━━━━━━━━━━━━━━━━━━━━━━━━━━━━━━━━━━━━━━━━\u001b[0m \u001b[32m50.9/50.9 kB\u001b[0m \u001b[31m8.3 MB/s\u001b[0m eta \u001b[36m0:00:00\u001b[0m\n",
            "\u001b[?25hRequirement already satisfied: PyYAML>=5.1.0 in /usr/local/lib/python3.10/dist-packages (from omegaconf->dvc) (6.0.1)\n",
            "Requirement already satisfied: charset-normalizer<4,>=2 in /usr/local/lib/python3.10/dist-packages (from requests>=2.22->dvc) (3.3.2)\n",
            "Requirement already satisfied: idna<4,>=2.5 in /usr/local/lib/python3.10/dist-packages (from requests>=2.22->dvc) (2.10)\n",
            "Requirement already satisfied: urllib3<3,>=1.21.1 in /usr/local/lib/python3.10/dist-packages (from requests>=2.22->dvc) (2.0.7)\n",
            "Requirement already satisfied: certifi>=2017.4.17 in /usr/local/lib/python3.10/dist-packages (from requests>=2.22->dvc) (2023.7.22)\n",
            "Requirement already satisfied: markdown-it-py>=2.2.0 in /usr/local/lib/python3.10/dist-packages (from rich>=12->dvc) (3.0.0)\n",
            "Requirement already satisfied: pygments<3.0.0,>=2.13.0 in /usr/local/lib/python3.10/dist-packages (from rich>=12->dvc) (2.16.1)\n",
            "Collecting ruamel.yaml.clib>=0.2.7 (from ruamel.yaml>=0.17.11->dvc)\n",
            "  Downloading ruamel.yaml.clib-0.2.8-cp310-cp310-manylinux_2_17_x86_64.manylinux2014_x86_64.manylinux_2_24_x86_64.whl (526 kB)\n",
            "\u001b[2K     \u001b[90m━━━━━━━━━━━━━━━━━━━━━━━━━━━━━━━━━━━━━━━━\u001b[0m \u001b[32m526.7/526.7 kB\u001b[0m \u001b[31m50.0 MB/s\u001b[0m eta \u001b[36m0:00:00\u001b[0m\n",
            "\u001b[?25hRequirement already satisfied: gitpython>3 in /usr/local/lib/python3.10/dist-packages (from scmrepo<4,>=3->dvc) (3.1.42)\n",
            "Collecting pygit2>=1.14.0 (from scmrepo<4,>=3->dvc)\n",
            "  Downloading pygit2-1.14.1-cp310-cp310-manylinux_2_17_x86_64.manylinux2014_x86_64.whl (5.1 MB)\n",
            "\u001b[2K     \u001b[90m━━━━━━━━━━━━━━━━━━━━━━━━━━━━━━━━━━━━━━━━\u001b[0m \u001b[32m5.1/5.1 MB\u001b[0m \u001b[31m93.8 MB/s\u001b[0m eta \u001b[36m0:00:00\u001b[0m\n",
            "\u001b[?25hCollecting asyncssh<3,>=2.13.1 (from scmrepo<4,>=3->dvc)\n",
            "  Downloading asyncssh-2.14.2-py3-none-any.whl (352 kB)\n",
            "\u001b[2K     \u001b[90m━━━━━━━━━━━━━━━━━━━━━━━━━━━━━━━━━━━━━━━━\u001b[0m \u001b[32m352.5/352.5 kB\u001b[0m \u001b[31m42.9 MB/s\u001b[0m eta \u001b[36m0:00:00\u001b[0m\n",
            "\u001b[?25hRequirement already satisfied: setuptools in /usr/local/lib/python3.10/dist-packages (from zc.lockfile>=1.2.1->dvc) (67.7.2)\n",
            "Requirement already satisfied: aiohttp in /usr/local/lib/python3.10/dist-packages (from aiohttp-retry>=2.5.0->dvc-http>=2.29.0->dvc) (3.9.3)\n",
            "Requirement already satisfied: cryptography>=39.0 in /usr/local/lib/python3.10/dist-packages (from asyncssh<3,>=2.13.1->scmrepo<4,>=3->dvc) (42.0.5)\n",
            "Requirement already satisfied: typing-extensions>=3.6 in /usr/local/lib/python3.10/dist-packages (from asyncssh<3,>=2.13.1->scmrepo<4,>=3->dvc) (4.10.0)\n",
            "Requirement already satisfied: prompt-toolkit>=3.0.36 in /usr/local/lib/python3.10/dist-packages (from click-repl>=0.2.0->celery->dvc) (3.0.43)\n",
            "Requirement already satisfied: gitdb<5,>=4.0.1 in /usr/local/lib/python3.10/dist-packages (from gitpython>3->scmrepo<4,>=3->dvc) (4.0.11)\n",
            "Requirement already satisfied: mdurl~=0.1 in /usr/local/lib/python3.10/dist-packages (from markdown-it-py>=2.2.0->rich>=12->dvc) (0.1.2)\n",
            "Requirement already satisfied: annotated-types>=0.4.0 in /usr/local/lib/python3.10/dist-packages (from pydantic!=2.0.0,<3,>=1.9.0->gto<2,>=1.6.0->dvc) (0.6.0)\n",
            "Requirement already satisfied: pydantic-core==2.16.3 in /usr/local/lib/python3.10/dist-packages (from pydantic!=2.0.0,<3,>=1.9.0->gto<2,>=1.6.0->dvc) (2.16.3)\n",
            "Requirement already satisfied: cffi>=1.16.0 in /usr/local/lib/python3.10/dist-packages (from pygit2>=1.14.0->scmrepo<4,>=3->dvc) (1.16.0)\n",
            "Collecting orjson (from sqltrie<1,>=0.11.0->dvc-data<3.16,>=3.15->dvc)\n",
            "  Downloading orjson-3.10.0-cp310-cp310-manylinux_2_17_x86_64.manylinux2014_x86_64.whl (144 kB)\n",
            "\u001b[2K     \u001b[90m━━━━━━━━━━━━━━━━━━━━━━━━━━━━━━━━━━━━━━━━\u001b[0m \u001b[32m144.8/144.8 kB\u001b[0m \u001b[31m24.2 MB/s\u001b[0m eta \u001b[36m0:00:00\u001b[0m\n",
            "\u001b[?25hINFO: pip is looking at multiple versions of fsspec[http] to determine which version is compatible with other requirements. This could take a while.\n",
            "Requirement already satisfied: aiosignal>=1.1.2 in /usr/local/lib/python3.10/dist-packages (from aiohttp->aiohttp-retry>=2.5.0->dvc-http>=2.29.0->dvc) (1.3.1)\n",
            "Requirement already satisfied: frozenlist>=1.1.1 in /usr/local/lib/python3.10/dist-packages (from aiohttp->aiohttp-retry>=2.5.0->dvc-http>=2.29.0->dvc) (1.4.1)\n",
            "Requirement already satisfied: multidict<7.0,>=4.5 in /usr/local/lib/python3.10/dist-packages (from aiohttp->aiohttp-retry>=2.5.0->dvc-http>=2.29.0->dvc) (6.0.5)\n",
            "Requirement already satisfied: yarl<2.0,>=1.0 in /usr/local/lib/python3.10/dist-packages (from aiohttp->aiohttp-retry>=2.5.0->dvc-http>=2.29.0->dvc) (1.9.4)\n",
            "Requirement already satisfied: async-timeout<5.0,>=4.0 in /usr/local/lib/python3.10/dist-packages (from aiohttp->aiohttp-retry>=2.5.0->dvc-http>=2.29.0->dvc) (4.0.3)\n",
            "Requirement already satisfied: pycparser in /usr/local/lib/python3.10/dist-packages (from cffi>=1.16.0->pygit2>=1.14.0->scmrepo<4,>=3->dvc) (2.21)\n",
            "Requirement already satisfied: smmap<6,>=3.0.1 in /usr/local/lib/python3.10/dist-packages (from gitdb<5,>=4.0.1->gitpython>3->scmrepo<4,>=3->dvc) (5.0.1)\n",
            "Requirement already satisfied: wcwidth in /usr/local/lib/python3.10/dist-packages (from prompt-toolkit>=3.0.36->click-repl>=0.2.0->celery->dvc) (0.2.13)\n",
            "Building wheels for collected packages: antlr4-python3-runtime\n",
            "  Building wheel for antlr4-python3-runtime (setup.py) ... \u001b[?25l\u001b[?25hdone\n",
            "  Created wheel for antlr4-python3-runtime: filename=antlr4_python3_runtime-4.9.3-py3-none-any.whl size=144554 sha256=436fd18a2c60dd39be32f560b000ce6192c068f289cd9cedcf6d7af3873324fb\n",
            "  Stored in directory: /root/.cache/pip/wheels/12/93/dd/1f6a127edc45659556564c5730f6d4e300888f4bca2d4c5a88\n",
            "Successfully built antlr4-python3-runtime\n",
            "Installing collected packages: pygtrie, funcy, dictdiffer, antlr4-python3-runtime, zc.lockfile, voluptuous, vine, tzdata, tomlkit, shtab, shortuuid, semver, ruamel.yaml.clib, platformdirs, pathspec, orjson, omegaconf, grandalf, fsspec, flufl.lock, flatten-dict, dvc-render, dulwich, dpath, diskcache, configobj, colorama, click-didyoumean, billiard, sqltrie, ruamel.yaml, pygit2, iterative-telemetry, hydra-core, dvc-studio-client, dvc-objects, click-repl, amqp, kombu, dvc-data, asyncssh, aiohttp-retry, scmrepo, dvc-http, celery, gto, dvc-task, dvc\n",
            "  Attempting uninstall: platformdirs\n",
            "    Found existing installation: platformdirs 4.2.0\n",
            "    Uninstalling platformdirs-4.2.0:\n",
            "      Successfully uninstalled platformdirs-4.2.0\n",
            "  Attempting uninstall: fsspec\n",
            "    Found existing installation: fsspec 2023.6.0\n",
            "    Uninstalling fsspec-2023.6.0:\n",
            "      Successfully uninstalled fsspec-2023.6.0\n",
            "\u001b[31mERROR: pip's dependency resolver does not currently take into account all the packages that are installed. This behaviour is the source of the following dependency conflicts.\n",
            "gcsfs 2023.6.0 requires fsspec==2023.6.0, but you have fsspec 2024.3.1 which is incompatible.\u001b[0m\u001b[31m\n",
            "\u001b[0mSuccessfully installed aiohttp-retry-2.8.3 amqp-5.2.0 antlr4-python3-runtime-4.9.3 asyncssh-2.14.2 billiard-4.2.0 celery-5.3.6 click-didyoumean-0.3.1 click-repl-0.3.0 colorama-0.4.6 configobj-5.0.8 dictdiffer-0.9.0 diskcache-5.6.3 dpath-2.1.6 dulwich-0.21.7 dvc-3.49.0 dvc-data-3.15.1 dvc-http-2.32.0 dvc-objects-5.1.0 dvc-render-1.0.1 dvc-studio-client-0.20.0 dvc-task-0.4.0 flatten-dict-0.4.2 flufl.lock-7.1.1 fsspec-2024.3.1 funcy-2.0 grandalf-0.8 gto-1.7.1 hydra-core-1.3.2 iterative-telemetry-0.0.8 kombu-5.3.6 omegaconf-2.3.0 orjson-3.10.0 pathspec-0.12.1 platformdirs-3.11.0 pygit2-1.14.1 pygtrie-2.5.0 ruamel.yaml-0.18.6 ruamel.yaml.clib-0.2.8 scmrepo-3.3.1 semver-3.0.2 shortuuid-1.0.13 shtab-1.7.1 sqltrie-0.11.0 tomlkit-0.12.4 tzdata-2024.1 vine-5.1.0 voluptuous-0.14.2 zc.lockfile-3.0.post1\n"
          ]
        },
        {
          "output_type": "display_data",
          "data": {
            "application/vnd.colab-display-data+json": {
              "pip_warning": {
                "packages": [
                  "pydevd_plugins"
                ]
              },
              "id": "014df1a244cb4608ba0cbeb54ab2e890"
            }
          },
          "metadata": {}
        },
        {
          "output_type": "stream",
          "name": "stdout",
          "text": [
            "Collecting pyngrok\n",
            "  Downloading pyngrok-7.1.6-py3-none-any.whl (22 kB)\n",
            "Requirement already satisfied: PyYAML>=5.1 in /usr/local/lib/python3.10/dist-packages (from pyngrok) (6.0.1)\n",
            "Installing collected packages: pyngrok\n",
            "Successfully installed pyngrok-7.1.6\n"
          ]
        }
      ]
    },
    {
      "cell_type": "code",
      "execution_count": 8,
      "metadata": {
        "id": "8ftLZJzs-t8H",
        "colab": {
          "base_uri": "https://localhost:8080/"
        },
        "outputId": "ad9c3767-89bf-44bd-b135-9393d08bb90c"
      },
      "outputs": [
        {
          "output_type": "stream",
          "name": "stdout",
          "text": [
            "loading Roboflow workspace...\n",
            "loading Roboflow project...\n"
          ]
        },
        {
          "output_type": "stream",
          "name": "stderr",
          "text": [
            "Downloading Dataset Version Zip in Construction-PPE-Detection-1 to yolov9:: 100%|██████████| 312782/312782 [00:20<00:00, 15215.25it/s]"
          ]
        },
        {
          "output_type": "stream",
          "name": "stdout",
          "text": [
            "\n"
          ]
        },
        {
          "output_type": "stream",
          "name": "stderr",
          "text": [
            "\n",
            "Extracting Dataset Version Zip to Construction-PPE-Detection-1 in yolov9:: 100%|██████████| 10034/10034 [00:02<00:00, 4693.33it/s]\n"
          ]
        }
      ],
      "source": [
        "# from roboflow import Roboflow\n",
        "# rf = Roboflow(api_key=\"oGeZhPKa3CXG0ywVh1lb\")\n",
        "# project = rf.workspace(\"huiyao-hu-sj18e\").project(\"construction-ppe-detection\")\n",
        "# dataset = project.version(1).download(\"yolov9\")"
      ]
    },
    {
      "cell_type": "code",
      "source": [
        "import os\n",
        "from IPython.display import Image\n",
        "from ultralytics import YOLO"
      ],
      "metadata": {
        "id": "G5EN-9o8_bWt"
      },
      "execution_count": 2,
      "outputs": []
    },
    {
      "cell_type": "code",
      "source": [
        "base_model = YOLO('yolov9c.pt')"
      ],
      "metadata": {
        "id": "5_jBLJA5A1Db",
        "colab": {
          "base_uri": "https://localhost:8080/"
        },
        "outputId": "94409c36-3795-416f-93e7-6b95413bbd76"
      },
      "execution_count": 3,
      "outputs": [
        {
          "output_type": "stream",
          "name": "stdout",
          "text": [
            "Downloading https://github.com/ultralytics/assets/releases/download/v8.1.0/yolov9c.pt to 'yolov9c.pt'...\n"
          ]
        },
        {
          "output_type": "stream",
          "name": "stderr",
          "text": [
            "100%|██████████| 49.4M/49.4M [00:00<00:00, 350MB/s]\n"
          ]
        }
      ]
    },
    {
      "cell_type": "code",
      "source": [
        "model_v1 = base_model.train(data='/content/Construction-PPE-Detection-1/data.yaml', epochs=10, imgsz=640)"
      ],
      "metadata": {
        "colab": {
          "base_uri": "https://localhost:8080/"
        },
        "id": "7MyFd3ykgOwH",
        "outputId": "2dac8542-fad5-4fa2-bcfa-a43c3174b7ce"
      },
      "execution_count": 21,
      "outputs": [
        {
          "output_type": "stream",
          "name": "stdout",
          "text": [
            "Ultralytics YOLOv8.1.37 🚀 Python-3.10.12 torch-2.2.1+cu121 CUDA:0 (Tesla T4, 15102MiB)\n",
            "\u001b[34m\u001b[1mengine/trainer: \u001b[0mtask=detect, mode=train, model=yolov9c.pt, data=/content/Construction-PPE-Detection-1/data.yaml, epochs=10, time=None, patience=100, batch=16, imgsz=640, save=True, save_period=-1, cache=False, device=None, workers=8, project=None, name=train22, exist_ok=False, pretrained=True, optimizer=auto, verbose=True, seed=0, deterministic=True, single_cls=False, rect=False, cos_lr=False, close_mosaic=10, resume=False, amp=True, fraction=1.0, profile=False, freeze=None, multi_scale=False, overlap_mask=True, mask_ratio=4, dropout=0.0, val=True, split=val, save_json=False, save_hybrid=False, conf=None, iou=0.7, max_det=300, half=False, dnn=False, plots=True, source=None, vid_stride=1, stream_buffer=False, visualize=False, augment=False, agnostic_nms=False, classes=None, retina_masks=False, embed=None, show=False, save_frames=False, save_txt=False, save_conf=False, save_crop=False, show_labels=True, show_conf=True, show_boxes=True, line_width=None, format=torchscript, keras=False, optimize=False, int8=False, dynamic=False, simplify=False, opset=None, workspace=4, nms=False, lr0=0.01, lrf=0.01, momentum=0.937, weight_decay=0.0005, warmup_epochs=3.0, warmup_momentum=0.8, warmup_bias_lr=0.0, box=7.5, cls=0.5, dfl=1.5, pose=12.0, kobj=1.0, label_smoothing=0.0, nbs=64, hsv_h=0.015, hsv_s=0.7, hsv_v=0.4, degrees=0.0, translate=0.1, scale=0.5, shear=0.0, perspective=0.0, flipud=0.0, fliplr=0.5, bgr=0.0, mosaic=1.0, mixup=0.0, copy_paste=0.0, auto_augment=randaugment, erasing=0.4, crop_fraction=1.0, cfg=None, tracker=botsort.yaml, save_dir=runs/detect/train22\n",
            "\n",
            "                   from  n    params  module                                       arguments                     \n",
            "  0                  -1  1      1856  ultralytics.nn.modules.conv.Conv             [3, 64, 3, 2]                 \n",
            "  1                  -1  1     73984  ultralytics.nn.modules.conv.Conv             [64, 128, 3, 2]               \n",
            "  2                  -1  1    212864  ultralytics.nn.modules.block.RepNCSPELAN4    [128, 256, 128, 64, 1]        \n",
            "  3                  -1  1    164352  ultralytics.nn.modules.block.ADown           [256, 256]                    \n",
            "  4                  -1  1    847616  ultralytics.nn.modules.block.RepNCSPELAN4    [256, 512, 256, 128, 1]       \n",
            "  5                  -1  1    656384  ultralytics.nn.modules.block.ADown           [512, 512]                    \n",
            "  6                  -1  1   2857472  ultralytics.nn.modules.block.RepNCSPELAN4    [512, 512, 512, 256, 1]       \n",
            "  7                  -1  1    656384  ultralytics.nn.modules.block.ADown           [512, 512]                    \n",
            "  8                  -1  1   2857472  ultralytics.nn.modules.block.RepNCSPELAN4    [512, 512, 512, 256, 1]       \n",
            "  9                  -1  1    656896  ultralytics.nn.modules.block.SPPELAN         [512, 512, 256]               \n",
            " 10                  -1  1         0  torch.nn.modules.upsampling.Upsample         [None, 2, 'nearest']          \n",
            " 11             [-1, 6]  1         0  ultralytics.nn.modules.conv.Concat           [1]                           \n",
            " 12                  -1  1   3119616  ultralytics.nn.modules.block.RepNCSPELAN4    [1024, 512, 512, 256, 1]      \n",
            " 13                  -1  1         0  torch.nn.modules.upsampling.Upsample         [None, 2, 'nearest']          \n",
            " 14             [-1, 4]  1         0  ultralytics.nn.modules.conv.Concat           [1]                           \n",
            " 15                  -1  1    912640  ultralytics.nn.modules.block.RepNCSPELAN4    [1024, 256, 256, 128, 1]      \n",
            " 16                  -1  1    164352  ultralytics.nn.modules.block.ADown           [256, 256]                    \n",
            " 17            [-1, 12]  1         0  ultralytics.nn.modules.conv.Concat           [1]                           \n",
            " 18                  -1  1   2988544  ultralytics.nn.modules.block.RepNCSPELAN4    [768, 512, 512, 256, 1]       \n",
            " 19                  -1  1    656384  ultralytics.nn.modules.block.ADown           [512, 512]                    \n",
            " 20             [-1, 9]  1         0  ultralytics.nn.modules.conv.Concat           [1]                           \n",
            " 21                  -1  1   3119616  ultralytics.nn.modules.block.RepNCSPELAN4    [1024, 512, 512, 256, 1]      \n",
            " 22        [15, 18, 21]  1   5586655  ultralytics.nn.modules.head.Detect           [5, [256, 512, 512]]          \n",
            "YOLOv9c summary: 618 layers, 25533087 parameters, 25533071 gradients, 103.7 GFLOPs\n",
            "\n",
            "Transferred 937/937 items from pretrained weights\n",
            "\u001b[34m\u001b[1mTensorBoard: \u001b[0mStart with 'tensorboard --logdir runs/detect/train22', view at http://localhost:6006/\n",
            "Freezing layer 'model.22.dfl.conv.weight'\n",
            "\u001b[34m\u001b[1mAMP: \u001b[0mrunning Automatic Mixed Precision (AMP) checks with YOLOv8n...\n",
            "\u001b[34m\u001b[1mAMP: \u001b[0mchecks passed ✅\n"
          ]
        },
        {
          "output_type": "stream",
          "name": "stderr",
          "text": [
            "\u001b[34m\u001b[1mtrain: \u001b[0mScanning /content/Construction-PPE-Detection-1/train/labels.cache... 4380 images, 3 backgrounds, 0 corrupt: 100%|██████████| 4380/4380 [00:00<?, ?it/s]"
          ]
        },
        {
          "output_type": "stream",
          "name": "stdout",
          "text": [
            "\u001b[34m\u001b[1mtrain: \u001b[0mWARNING ⚠️ /content/Construction-PPE-Detection-1/train/images/Video2_167_jpg.rf.3d3db68c78b8ab013260820b65a8c665.jpg: 1 duplicate labels removed\n",
            "\u001b[34m\u001b[1mtrain: \u001b[0mWARNING ⚠️ /content/Construction-PPE-Detection-1/train/images/Video2_167_jpg.rf.59c37edab1d4f9dba6130d2ac097952d.jpg: 1 duplicate labels removed\n",
            "\u001b[34m\u001b[1mtrain: \u001b[0mWARNING ⚠️ /content/Construction-PPE-Detection-1/train/images/Video2_167_jpg.rf.9535f0b6d5236458c72177457562c00a.jpg: 1 duplicate labels removed\n",
            "\u001b[34m\u001b[1mtrain: \u001b[0mWARNING ⚠️ /content/Construction-PPE-Detection-1/train/images/Video2_167_jpg.rf.b7d4a9e62d8b4b49f992247e1cca9748.jpg: 1 duplicate labels removed\n",
            "\u001b[34m\u001b[1mtrain: \u001b[0mWARNING ⚠️ /content/Construction-PPE-Detection-1/train/images/Video2_167_jpg.rf.c2821b613933d9f5b06518ea04da722b.jpg: 1 duplicate labels removed\n",
            "\u001b[34m\u001b[1mtrain: \u001b[0mWARNING ⚠️ /content/Construction-PPE-Detection-1/train/images/Video2_167_jpg.rf.eae224fd29b8fe0a71eabe267ffecdbc.jpg: 1 duplicate labels removed\n"
          ]
        },
        {
          "output_type": "stream",
          "name": "stderr",
          "text": [
            "\n"
          ]
        },
        {
          "output_type": "stream",
          "name": "stdout",
          "text": [
            "\u001b[34m\u001b[1malbumentations: \u001b[0mBlur(p=0.01, blur_limit=(3, 7)), MedianBlur(p=0.01, blur_limit=(3, 7)), ToGray(p=0.01), CLAHE(p=0.01, clip_limit=(1, 4.0), tile_grid_size=(8, 8))\n"
          ]
        },
        {
          "output_type": "stream",
          "name": "stderr",
          "text": [
            "\u001b[34m\u001b[1mval: \u001b[0mScanning /content/Construction-PPE-Detection-1/valid/labels.cache... 420 images, 0 backgrounds, 0 corrupt: 100%|██████████| 420/420 [00:00<?, ?it/s]\n"
          ]
        },
        {
          "output_type": "stream",
          "name": "stdout",
          "text": [
            "Plotting labels to runs/detect/train22/labels.jpg... \n",
            "\u001b[34m\u001b[1moptimizer:\u001b[0m 'optimizer=auto' found, ignoring 'lr0=0.01' and 'momentum=0.937' and determining best 'optimizer', 'lr0' and 'momentum' automatically... \n",
            "\u001b[34m\u001b[1moptimizer:\u001b[0m AdamW(lr=0.001111, momentum=0.9) with parameter groups 154 weight(decay=0.0), 161 weight(decay=0.0005), 160 bias(decay=0.0)\n"
          ]
        },
        {
          "output_type": "stream",
          "name": "stderr",
          "text": [
            "2024/03/29 18:08:02 INFO mlflow.tracking.fluent: Experiment with name '/Shared/YOLOv8' does not exist. Creating a new experiment.\n",
            "2024/03/29 18:08:02 INFO mlflow.tracking.fluent: Autologging successfully enabled for statsmodels.\n",
            "2024/03/29 18:08:02 INFO mlflow.tracking.fluent: Autologging successfully enabled for tensorflow.\n",
            "2024/03/29 18:08:02 INFO mlflow.tracking.fluent: Autologging successfully enabled for sklearn.\n",
            "2024/03/29 18:08:02 INFO mlflow.tracking.fluent: Autologging successfully enabled for keras.\n",
            "2024/03/29 18:08:02 WARNING mlflow.utils.autologging_utils: You are using an unsupported version of transformers. If you encounter errors during autologging, try upgrading / downgrading transformers to a supported version, or try upgrading MLflow.\n",
            "2024/03/29 18:08:02 INFO mlflow.tracking.fluent: Autologging successfully enabled for transformers.\n"
          ]
        },
        {
          "output_type": "stream",
          "name": "stdout",
          "text": [
            "\u001b[34m\u001b[1mMLflow: \u001b[0mlogging run_id(476e5c0417ef4f9fb7b98b6bf13f4144) to runs/mlflow\n",
            "\u001b[34m\u001b[1mMLflow: \u001b[0mview at http://127.0.0.1:5000 with 'mlflow server --backend-store-uri runs/mlflow'\n",
            "\u001b[34m\u001b[1mMLflow: \u001b[0mdisable with 'yolo settings mlflow=False'\n",
            "\u001b[34m\u001b[1mTensorBoard: \u001b[0mmodel graph visualization added ✅\n",
            "Image sizes 640 train, 640 val\n",
            "Using 2 dataloader workers\n",
            "Logging results to \u001b[1mruns/detect/train22\u001b[0m\n",
            "Starting training for 10 epochs...\n",
            "Closing dataloader mosaic\n",
            "\u001b[34m\u001b[1malbumentations: \u001b[0mBlur(p=0.01, blur_limit=(3, 7)), MedianBlur(p=0.01, blur_limit=(3, 7)), ToGray(p=0.01), CLAHE(p=0.01, clip_limit=(1, 4.0), tile_grid_size=(8, 8))\n",
            "\n",
            "      Epoch    GPU_mem   box_loss   cls_loss   dfl_loss  Instances       Size\n"
          ]
        },
        {
          "output_type": "stream",
          "name": "stderr",
          "text": [
            "       1/10      11.2G     0.7964     0.4961      1.122         59        640: 100%|██████████| 274/274 [03:44<00:00,  1.22it/s]\n",
            "                 Class     Images  Instances      Box(P          R      mAP50  mAP50-95): 100%|██████████| 14/14 [00:08<00:00,  1.59it/s]"
          ]
        },
        {
          "output_type": "stream",
          "name": "stdout",
          "text": [
            "                   all        420       1797      0.784      0.795      0.834      0.635\n"
          ]
        },
        {
          "output_type": "stream",
          "name": "stderr",
          "text": [
            "\n"
          ]
        },
        {
          "output_type": "stream",
          "name": "stdout",
          "text": [
            "\n",
            "      Epoch    GPU_mem   box_loss   cls_loss   dfl_loss  Instances       Size\n"
          ]
        },
        {
          "output_type": "stream",
          "name": "stderr",
          "text": [
            "       2/10      11.1G     0.8622     0.5735      1.159         52        640: 100%|██████████| 274/274 [03:37<00:00,  1.26it/s]\n",
            "                 Class     Images  Instances      Box(P          R      mAP50  mAP50-95): 100%|██████████| 14/14 [00:08<00:00,  1.60it/s]"
          ]
        },
        {
          "output_type": "stream",
          "name": "stdout",
          "text": [
            "                   all        420       1797      0.781      0.708      0.762      0.564\n"
          ]
        },
        {
          "output_type": "stream",
          "name": "stderr",
          "text": [
            "\n"
          ]
        },
        {
          "output_type": "stream",
          "name": "stdout",
          "text": [
            "\n",
            "      Epoch    GPU_mem   box_loss   cls_loss   dfl_loss  Instances       Size\n"
          ]
        },
        {
          "output_type": "stream",
          "name": "stderr",
          "text": [
            "       3/10      10.9G     0.8846     0.5892      1.167         52        640: 100%|██████████| 274/274 [03:35<00:00,  1.27it/s]\n",
            "                 Class     Images  Instances      Box(P          R      mAP50  mAP50-95): 100%|██████████| 14/14 [00:08<00:00,  1.66it/s]\n"
          ]
        },
        {
          "output_type": "stream",
          "name": "stdout",
          "text": [
            "                   all        420       1797      0.743      0.781      0.825      0.605\n",
            "\n",
            "      Epoch    GPU_mem   box_loss   cls_loss   dfl_loss  Instances       Size\n"
          ]
        },
        {
          "output_type": "stream",
          "name": "stderr",
          "text": [
            "       4/10        11G     0.8565     0.5554      1.153         43        640: 100%|██████████| 274/274 [03:35<00:00,  1.27it/s]\n",
            "                 Class     Images  Instances      Box(P          R      mAP50  mAP50-95): 100%|██████████| 14/14 [00:09<00:00,  1.51it/s]"
          ]
        },
        {
          "output_type": "stream",
          "name": "stdout",
          "text": [
            "                   all        420       1797      0.797      0.804      0.834      0.634\n"
          ]
        },
        {
          "output_type": "stream",
          "name": "stderr",
          "text": [
            "\n"
          ]
        },
        {
          "output_type": "stream",
          "name": "stdout",
          "text": [
            "\n",
            "      Epoch    GPU_mem   box_loss   cls_loss   dfl_loss  Instances       Size\n"
          ]
        },
        {
          "output_type": "stream",
          "name": "stderr",
          "text": [
            "       5/10      11.1G     0.8246     0.5154      1.128         44        640: 100%|██████████| 274/274 [03:34<00:00,  1.28it/s]\n",
            "                 Class     Images  Instances      Box(P          R      mAP50  mAP50-95): 100%|██████████| 14/14 [00:08<00:00,  1.58it/s]"
          ]
        },
        {
          "output_type": "stream",
          "name": "stdout",
          "text": [
            "                   all        420       1797      0.752      0.819      0.822      0.615\n"
          ]
        },
        {
          "output_type": "stream",
          "name": "stderr",
          "text": [
            "\n"
          ]
        },
        {
          "output_type": "stream",
          "name": "stdout",
          "text": [
            "\n",
            "      Epoch    GPU_mem   box_loss   cls_loss   dfl_loss  Instances       Size\n"
          ]
        },
        {
          "output_type": "stream",
          "name": "stderr",
          "text": [
            "       6/10      11.2G     0.7993     0.4805      1.114         51        640: 100%|██████████| 274/274 [03:35<00:00,  1.27it/s]\n",
            "                 Class     Images  Instances      Box(P          R      mAP50  mAP50-95): 100%|██████████| 14/14 [00:08<00:00,  1.62it/s]"
          ]
        },
        {
          "output_type": "stream",
          "name": "stdout",
          "text": [
            "                   all        420       1797      0.832      0.843      0.845      0.654\n"
          ]
        },
        {
          "output_type": "stream",
          "name": "stderr",
          "text": [
            "\n"
          ]
        },
        {
          "output_type": "stream",
          "name": "stdout",
          "text": [
            "\n",
            "      Epoch    GPU_mem   box_loss   cls_loss   dfl_loss  Instances       Size\n"
          ]
        },
        {
          "output_type": "stream",
          "name": "stderr",
          "text": [
            "       7/10      11.1G     0.7579     0.4396      1.086         71        640: 100%|██████████| 274/274 [03:35<00:00,  1.27it/s]\n",
            "                 Class     Images  Instances      Box(P          R      mAP50  mAP50-95): 100%|██████████| 14/14 [00:08<00:00,  1.65it/s]"
          ]
        },
        {
          "output_type": "stream",
          "name": "stdout",
          "text": [
            "                   all        420       1797      0.847      0.806      0.838      0.654\n"
          ]
        },
        {
          "output_type": "stream",
          "name": "stderr",
          "text": [
            "\n"
          ]
        },
        {
          "output_type": "stream",
          "name": "stdout",
          "text": [
            "\n",
            "      Epoch    GPU_mem   box_loss   cls_loss   dfl_loss  Instances       Size\n"
          ]
        },
        {
          "output_type": "stream",
          "name": "stderr",
          "text": [
            "       8/10      10.9G     0.7197     0.3982      1.059         42        640: 100%|██████████| 274/274 [03:35<00:00,  1.27it/s]\n",
            "                 Class     Images  Instances      Box(P          R      mAP50  mAP50-95): 100%|██████████| 14/14 [00:08<00:00,  1.60it/s]"
          ]
        },
        {
          "output_type": "stream",
          "name": "stdout",
          "text": [
            "                   all        420       1797      0.834      0.822      0.842      0.672\n"
          ]
        },
        {
          "output_type": "stream",
          "name": "stderr",
          "text": [
            "\n"
          ]
        },
        {
          "output_type": "stream",
          "name": "stdout",
          "text": [
            "\n",
            "      Epoch    GPU_mem   box_loss   cls_loss   dfl_loss  Instances       Size\n"
          ]
        },
        {
          "output_type": "stream",
          "name": "stderr",
          "text": [
            "       9/10      11.1G     0.6771     0.3653      1.032         48        640: 100%|██████████| 274/274 [03:34<00:00,  1.27it/s]\n",
            "                 Class     Images  Instances      Box(P          R      mAP50  mAP50-95): 100%|██████████| 14/14 [00:08<00:00,  1.61it/s]"
          ]
        },
        {
          "output_type": "stream",
          "name": "stdout",
          "text": [
            "                   all        420       1797      0.874      0.845      0.881      0.711\n"
          ]
        },
        {
          "output_type": "stream",
          "name": "stderr",
          "text": [
            "\n"
          ]
        },
        {
          "output_type": "stream",
          "name": "stdout",
          "text": [
            "\n",
            "      Epoch    GPU_mem   box_loss   cls_loss   dfl_loss  Instances       Size\n"
          ]
        },
        {
          "output_type": "stream",
          "name": "stderr",
          "text": [
            "      10/10      10.9G     0.6427     0.3366      1.013         63        640: 100%|██████████| 274/274 [03:35<00:00,  1.27it/s]\n",
            "                 Class     Images  Instances      Box(P          R      mAP50  mAP50-95): 100%|██████████| 14/14 [00:08<00:00,  1.68it/s]"
          ]
        },
        {
          "output_type": "stream",
          "name": "stdout",
          "text": [
            "                   all        420       1797      0.887      0.881      0.898       0.73\n"
          ]
        },
        {
          "output_type": "stream",
          "name": "stderr",
          "text": [
            "\n"
          ]
        },
        {
          "output_type": "stream",
          "name": "stdout",
          "text": [
            "\n",
            "10 epochs completed in 0.638 hours.\n",
            "Optimizer stripped from runs/detect/train22/weights/last.pt, 51.6MB\n",
            "Optimizer stripped from runs/detect/train22/weights/best.pt, 51.6MB\n",
            "\n",
            "Validating runs/detect/train22/weights/best.pt...\n",
            "Ultralytics YOLOv8.1.37 🚀 Python-3.10.12 torch-2.2.1+cu121 CUDA:0 (Tesla T4, 15102MiB)\n",
            "YOLOv9c summary (fused): 384 layers, 25323103 parameters, 0 gradients, 102.3 GFLOPs\n"
          ]
        },
        {
          "output_type": "stream",
          "name": "stderr",
          "text": [
            "                 Class     Images  Instances      Box(P          R      mAP50  mAP50-95): 100%|██████████| 14/14 [00:13<00:00,  1.03it/s]\n"
          ]
        },
        {
          "output_type": "stream",
          "name": "stdout",
          "text": [
            "                   all        420       1797      0.887      0.881      0.899      0.731\n",
            "                 boots        420        593      0.958      0.914      0.972      0.749\n",
            "                gloves        420         41      0.662       0.67      0.619      0.446\n",
            "                helmet        420        320      0.957      0.953      0.971      0.754\n",
            "                 human        420        376      0.925      0.934       0.96      0.876\n",
            "                  vest        420        467      0.932      0.937      0.971      0.828\n",
            "Speed: 0.3ms preprocess, 15.9ms inference, 0.0ms loss, 4.4ms postprocess per image\n",
            "Results saved to \u001b[1mruns/detect/train22\u001b[0m\n",
            "\u001b[34m\u001b[1mMLflow: \u001b[0mresults logged to runs/mlflow\n",
            "\u001b[34m\u001b[1mMLflow: \u001b[0mdisable with 'yolo settings mlflow=False'\n"
          ]
        }
      ]
    },
    {
      "cell_type": "code",
      "source": [
        "import locale\n",
        "import locale\n",
        "def getpreferredencoding(do_setlocale = True):\n",
        "    return \"UTF-8\"\n",
        "locale.getpreferredencoding = getpreferredencoding\n",
        "print(locale.getpreferredencoding())"
      ],
      "metadata": {
        "colab": {
          "base_uri": "https://localhost:8080/"
        },
        "id": "DQ5BqkVw0tzO",
        "outputId": "fe9786fc-2629-48ba-8a32-151811f6ff9b"
      },
      "execution_count": 22,
      "outputs": [
        {
          "output_type": "stream",
          "name": "stdout",
          "text": [
            "UTF-8\n"
          ]
        }
      ]
    },
    {
      "cell_type": "code",
      "source": [
        "# !tensorboard --logdir runs/detect/train2"
      ],
      "metadata": {
        "id": "GMIyjAQ5EHq3"
      },
      "execution_count": null,
      "outputs": []
    },
    {
      "cell_type": "code",
      "source": [
        "!zip -r /content/runs.zip /content/runs\n",
        "#!zip -r /content/mlruns.zip /content/mlruns"
      ],
      "metadata": {
        "id": "fdl2aS9iwPLz",
        "colab": {
          "base_uri": "https://localhost:8080/"
        },
        "outputId": "3ed26af7-1c0d-491b-accb-b7016bbb1cbf"
      },
      "execution_count": 23,
      "outputs": [
        {
          "output_type": "stream",
          "name": "stdout",
          "text": [
            "  adding: content/runs/ (stored 0%)\n",
            "  adding: content/runs/detect/ (stored 0%)\n",
            "  adding: content/runs/detect/train2/ (stored 0%)\n",
            "  adding: content/runs/detect/train2/confusion_matrix.png (deflated 27%)\n",
            "  adding: content/runs/detect/train2/confusion_matrix_normalized.png (deflated 24%)\n",
            "  adding: content/runs/detect/train2/labels_correlogram.jpg (deflated 28%)\n",
            "  adding: content/runs/detect/train2/P_curve.png (deflated 7%)\n",
            "  adding: content/runs/detect/train2/val_batch2_pred.jpg (deflated 7%)\n",
            "  adding: content/runs/detect/train2/val_batch1_labels.jpg (deflated 5%)\n",
            "  adding: content/runs/detect/train2/train_batch2.jpg (deflated 2%)\n",
            "  adding: content/runs/detect/train2/train_batch1.jpg (deflated 2%)\n",
            "  adding: content/runs/detect/train2/val_batch0_pred.jpg (deflated 5%)\n",
            "  adding: content/runs/detect/train2/results.csv (deflated 80%)\n",
            "  adding: content/runs/detect/train2/val_batch1_pred.jpg (deflated 5%)\n",
            "  adding: content/runs/detect/train2/args.yaml (deflated 52%)\n",
            "  adding: content/runs/detect/train2/events.out.tfevents.1711732634.e95aad0284a4.3461.0 (deflated 94%)\n",
            "  adding: content/runs/detect/train2/R_curve.png (deflated 8%)\n",
            "  adding: content/runs/detect/train2/PR_curve.png (deflated 11%)\n",
            "  adding: content/runs/detect/train2/val_batch2_labels.jpg (deflated 7%)\n",
            "  adding: content/runs/detect/train2/weights/ (stored 0%)\n",
            "  adding: content/runs/detect/train2/weights/last.pt (deflated 8%)\n",
            "  adding: content/runs/detect/train2/weights/best.pt (deflated 8%)\n",
            "  adding: content/runs/detect/train2/labels.jpg (deflated 30%)\n",
            "  adding: content/runs/detect/train2/F1_curve.png (deflated 7%)\n",
            "  adding: content/runs/detect/train2/val_batch0_labels.jpg (deflated 5%)\n",
            "  adding: content/runs/detect/train2/train_batch0.jpg (deflated 1%)\n",
            "  adding: content/runs/detect/train2/results.png (deflated 8%)\n",
            "  adding: content/runs/detect/train22/ (stored 0%)\n",
            "  adding: content/runs/detect/train22/confusion_matrix.png (deflated 27%)\n",
            "  adding: content/runs/detect/train22/confusion_matrix_normalized.png (deflated 25%)\n",
            "  adding: content/runs/detect/train22/labels_correlogram.jpg (deflated 28%)\n",
            "  adding: content/runs/detect/train22/P_curve.png (deflated 9%)\n",
            "  adding: content/runs/detect/train22/val_batch2_pred.jpg (deflated 7%)\n",
            "  adding: content/runs/detect/train22/val_batch1_labels.jpg (deflated 5%)\n",
            "  adding: content/runs/detect/train22/train_batch2.jpg (deflated 4%)\n",
            "  adding: content/runs/detect/train22/train_batch1.jpg (deflated 7%)\n",
            "  adding: content/runs/detect/train22/val_batch0_pred.jpg (deflated 5%)\n",
            "  adding: content/runs/detect/train22/results.csv (deflated 82%)\n",
            "  adding: content/runs/detect/train22/val_batch1_pred.jpg (deflated 5%)\n",
            "  adding: content/runs/detect/train22/args.yaml (deflated 52%)\n",
            "  adding: content/runs/detect/train22/R_curve.png (deflated 9%)\n",
            "  adding: content/runs/detect/train22/PR_curve.png (deflated 14%)\n",
            "  adding: content/runs/detect/train22/events.out.tfevents.1711735672.e95aad0284a4.3461.1 (deflated 94%)\n",
            "  adding: content/runs/detect/train22/val_batch2_labels.jpg (deflated 7%)\n",
            "  adding: content/runs/detect/train22/weights/ (stored 0%)\n",
            "  adding: content/runs/detect/train22/weights/last.pt (deflated 8%)\n",
            "  adding: content/runs/detect/train22/weights/best.pt (deflated 8%)\n",
            "  adding: content/runs/detect/train22/labels.jpg (deflated 30%)\n",
            "  adding: content/runs/detect/train22/F1_curve.png (deflated 8%)\n",
            "  adding: content/runs/detect/train22/val_batch0_labels.jpg (deflated 5%)\n",
            "  adding: content/runs/detect/train22/train_batch0.jpg (deflated 3%)\n",
            "  adding: content/runs/detect/train22/results.png (deflated 7%)\n",
            "  adding: content/runs/detect/train/ (stored 0%)\n",
            "  adding: content/runs/detect/train/args.yaml (deflated 52%)\n",
            "  adding: content/runs/detect/train/weights/ (stored 0%)\n",
            "  adding: content/runs/mlflow/ (stored 0%)\n",
            "  adding: content/runs/mlflow/models/ (stored 0%)\n",
            "  adding: content/runs/mlflow/.trash/ (stored 0%)\n",
            "  adding: content/runs/mlflow/175733073715981267/ (stored 0%)\n",
            "  adding: content/runs/mlflow/175733073715981267/meta.yaml (deflated 27%)\n",
            "  adding: content/runs/mlflow/175733073715981267/476e5c0417ef4f9fb7b98b6bf13f4144/ (stored 0%)\n",
            "  adding: content/runs/mlflow/175733073715981267/476e5c0417ef4f9fb7b98b6bf13f4144/artifacts/ (stored 0%)\n",
            "  adding: content/runs/mlflow/175733073715981267/476e5c0417ef4f9fb7b98b6bf13f4144/artifacts/confusion_matrix.png (deflated 27%)\n",
            "  adding: content/runs/mlflow/175733073715981267/476e5c0417ef4f9fb7b98b6bf13f4144/artifacts/confusion_matrix_normalized.png (deflated 25%)\n",
            "  adding: content/runs/mlflow/175733073715981267/476e5c0417ef4f9fb7b98b6bf13f4144/artifacts/labels_correlogram.jpg (deflated 28%)\n",
            "  adding: content/runs/mlflow/175733073715981267/476e5c0417ef4f9fb7b98b6bf13f4144/artifacts/P_curve.png (deflated 9%)\n",
            "  adding: content/runs/mlflow/175733073715981267/476e5c0417ef4f9fb7b98b6bf13f4144/artifacts/val_batch2_pred.jpg (deflated 7%)\n",
            "  adding: content/runs/mlflow/175733073715981267/476e5c0417ef4f9fb7b98b6bf13f4144/artifacts/val_batch1_labels.jpg (deflated 5%)\n",
            "  adding: content/runs/mlflow/175733073715981267/476e5c0417ef4f9fb7b98b6bf13f4144/artifacts/train_batch2.jpg (deflated 4%)\n",
            "  adding: content/runs/mlflow/175733073715981267/476e5c0417ef4f9fb7b98b6bf13f4144/artifacts/train_batch1.jpg (deflated 7%)\n",
            "  adding: content/runs/mlflow/175733073715981267/476e5c0417ef4f9fb7b98b6bf13f4144/artifacts/val_batch0_pred.jpg (deflated 5%)\n",
            "  adding: content/runs/mlflow/175733073715981267/476e5c0417ef4f9fb7b98b6bf13f4144/artifacts/results.csv (deflated 82%)\n",
            "  adding: content/runs/mlflow/175733073715981267/476e5c0417ef4f9fb7b98b6bf13f4144/artifacts/val_batch1_pred.jpg (deflated 5%)\n",
            "  adding: content/runs/mlflow/175733073715981267/476e5c0417ef4f9fb7b98b6bf13f4144/artifacts/args.yaml (deflated 52%)\n",
            "  adding: content/runs/mlflow/175733073715981267/476e5c0417ef4f9fb7b98b6bf13f4144/artifacts/R_curve.png (deflated 9%)\n",
            "  adding: content/runs/mlflow/175733073715981267/476e5c0417ef4f9fb7b98b6bf13f4144/artifacts/PR_curve.png (deflated 14%)\n",
            "  adding: content/runs/mlflow/175733073715981267/476e5c0417ef4f9fb7b98b6bf13f4144/artifacts/val_batch2_labels.jpg (deflated 7%)\n",
            "  adding: content/runs/mlflow/175733073715981267/476e5c0417ef4f9fb7b98b6bf13f4144/artifacts/weights/ (stored 0%)\n",
            "  adding: content/runs/mlflow/175733073715981267/476e5c0417ef4f9fb7b98b6bf13f4144/artifacts/weights/last.pt (deflated 8%)\n",
            "  adding: content/runs/mlflow/175733073715981267/476e5c0417ef4f9fb7b98b6bf13f4144/artifacts/weights/best.pt (deflated 8%)\n",
            "  adding: content/runs/mlflow/175733073715981267/476e5c0417ef4f9fb7b98b6bf13f4144/artifacts/labels.jpg (deflated 30%)\n",
            "  adding: content/runs/mlflow/175733073715981267/476e5c0417ef4f9fb7b98b6bf13f4144/artifacts/F1_curve.png (deflated 8%)\n",
            "  adding: content/runs/mlflow/175733073715981267/476e5c0417ef4f9fb7b98b6bf13f4144/artifacts/val_batch0_labels.jpg (deflated 5%)\n",
            "  adding: content/runs/mlflow/175733073715981267/476e5c0417ef4f9fb7b98b6bf13f4144/artifacts/train_batch0.jpg (deflated 3%)\n",
            "  adding: content/runs/mlflow/175733073715981267/476e5c0417ef4f9fb7b98b6bf13f4144/artifacts/results.png (deflated 7%)\n",
            "  adding: content/runs/mlflow/175733073715981267/476e5c0417ef4f9fb7b98b6bf13f4144/meta.yaml (deflated 46%)\n",
            "  adding: content/runs/mlflow/175733073715981267/476e5c0417ef4f9fb7b98b6bf13f4144/params/ (stored 0%)\n",
            "  adding: content/runs/mlflow/175733073715981267/476e5c0417ef4f9fb7b98b6bf13f4144/params/hsv_h (stored 0%)\n",
            "  adding: content/runs/mlflow/175733073715981267/476e5c0417ef4f9fb7b98b6bf13f4144/params/dnn (stored 0%)\n",
            "  adding: content/runs/mlflow/175733073715981267/476e5c0417ef4f9fb7b98b6bf13f4144/params/optimizer (stored 0%)\n",
            "  adding: content/runs/mlflow/175733073715981267/476e5c0417ef4f9fb7b98b6bf13f4144/params/degrees (stored 0%)\n",
            "  adding: content/runs/mlflow/175733073715981267/476e5c0417ef4f9fb7b98b6bf13f4144/params/project (stored 0%)\n",
            "  adding: content/runs/mlflow/175733073715981267/476e5c0417ef4f9fb7b98b6bf13f4144/params/retina_masks (stored 0%)\n",
            "  adding: content/runs/mlflow/175733073715981267/476e5c0417ef4f9fb7b98b6bf13f4144/params/save_crop (stored 0%)\n",
            "  adding: content/runs/mlflow/175733073715981267/476e5c0417ef4f9fb7b98b6bf13f4144/params/copy_paste (stored 0%)\n",
            "  adding: content/runs/mlflow/175733073715981267/476e5c0417ef4f9fb7b98b6bf13f4144/params/patience (stored 0%)\n",
            "  adding: content/runs/mlflow/175733073715981267/476e5c0417ef4f9fb7b98b6bf13f4144/params/fraction (stored 0%)\n",
            "  adding: content/runs/mlflow/175733073715981267/476e5c0417ef4f9fb7b98b6bf13f4144/params/cfg (stored 0%)\n",
            "  adding: content/runs/mlflow/175733073715981267/476e5c0417ef4f9fb7b98b6bf13f4144/params/warmup_epochs (stored 0%)\n",
            "  adding: content/runs/mlflow/175733073715981267/476e5c0417ef4f9fb7b98b6bf13f4144/params/half (stored 0%)\n",
            "  adding: content/runs/mlflow/175733073715981267/476e5c0417ef4f9fb7b98b6bf13f4144/params/plots (stored 0%)\n",
            "  adding: content/runs/mlflow/175733073715981267/476e5c0417ef4f9fb7b98b6bf13f4144/params/save_json (stored 0%)\n",
            "  adding: content/runs/mlflow/175733073715981267/476e5c0417ef4f9fb7b98b6bf13f4144/params/workspace (stored 0%)\n",
            "  adding: content/runs/mlflow/175733073715981267/476e5c0417ef4f9fb7b98b6bf13f4144/params/save_period (stored 0%)\n",
            "  adding: content/runs/mlflow/175733073715981267/476e5c0417ef4f9fb7b98b6bf13f4144/params/save_txt (stored 0%)\n",
            "  adding: content/runs/mlflow/175733073715981267/476e5c0417ef4f9fb7b98b6bf13f4144/params/show_labels (stored 0%)\n",
            "  adding: content/runs/mlflow/175733073715981267/476e5c0417ef4f9fb7b98b6bf13f4144/params/momentum (stored 0%)\n",
            "  adding: content/runs/mlflow/175733073715981267/476e5c0417ef4f9fb7b98b6bf13f4144/params/show (stored 0%)\n",
            "  adding: content/runs/mlflow/175733073715981267/476e5c0417ef4f9fb7b98b6bf13f4144/params/vid_stride (stored 0%)\n",
            "  adding: content/runs/mlflow/175733073715981267/476e5c0417ef4f9fb7b98b6bf13f4144/params/seed (stored 0%)\n",
            "  adding: content/runs/mlflow/175733073715981267/476e5c0417ef4f9fb7b98b6bf13f4144/params/lr0 (stored 0%)\n",
            "  adding: content/runs/mlflow/175733073715981267/476e5c0417ef4f9fb7b98b6bf13f4144/params/overlap_mask (stored 0%)\n",
            "  adding: content/runs/mlflow/175733073715981267/476e5c0417ef4f9fb7b98b6bf13f4144/params/device (stored 0%)\n",
            "  adding: content/runs/mlflow/175733073715981267/476e5c0417ef4f9fb7b98b6bf13f4144/params/split (stored 0%)\n",
            "  adding: content/runs/mlflow/175733073715981267/476e5c0417ef4f9fb7b98b6bf13f4144/params/imgsz (stored 0%)\n",
            "  adding: content/runs/mlflow/175733073715981267/476e5c0417ef4f9fb7b98b6bf13f4144/params/epochs (stored 0%)\n",
            "  adding: content/runs/mlflow/175733073715981267/476e5c0417ef4f9fb7b98b6bf13f4144/params/pose (stored 0%)\n",
            "  adding: content/runs/mlflow/175733073715981267/476e5c0417ef4f9fb7b98b6bf13f4144/params/embed (stored 0%)\n",
            "  adding: content/runs/mlflow/175733073715981267/476e5c0417ef4f9fb7b98b6bf13f4144/params/classes (stored 0%)\n",
            "  adding: content/runs/mlflow/175733073715981267/476e5c0417ef4f9fb7b98b6bf13f4144/params/lrf (stored 0%)\n",
            "  adding: content/runs/mlflow/175733073715981267/476e5c0417ef4f9fb7b98b6bf13f4144/params/resume (stored 0%)\n",
            "  adding: content/runs/mlflow/175733073715981267/476e5c0417ef4f9fb7b98b6bf13f4144/params/mixup (stored 0%)\n",
            "  adding: content/runs/mlflow/175733073715981267/476e5c0417ef4f9fb7b98b6bf13f4144/params/label_smoothing (stored 0%)\n",
            "  adding: content/runs/mlflow/175733073715981267/476e5c0417ef4f9fb7b98b6bf13f4144/params/visualize (stored 0%)\n",
            "  adding: content/runs/mlflow/175733073715981267/476e5c0417ef4f9fb7b98b6bf13f4144/params/model (stored 0%)\n",
            "  adding: content/runs/mlflow/175733073715981267/476e5c0417ef4f9fb7b98b6bf13f4144/params/hsv_v (stored 0%)\n",
            "  adding: content/runs/mlflow/175733073715981267/476e5c0417ef4f9fb7b98b6bf13f4144/params/show_conf (stored 0%)\n",
            "  adding: content/runs/mlflow/175733073715981267/476e5c0417ef4f9fb7b98b6bf13f4144/params/save_hybrid (stored 0%)\n",
            "  adding: content/runs/mlflow/175733073715981267/476e5c0417ef4f9fb7b98b6bf13f4144/params/format (stored 0%)\n",
            "  adding: content/runs/mlflow/175733073715981267/476e5c0417ef4f9fb7b98b6bf13f4144/params/max_det (stored 0%)\n",
            "  adding: content/runs/mlflow/175733073715981267/476e5c0417ef4f9fb7b98b6bf13f4144/params/shear (stored 0%)\n",
            "  adding: content/runs/mlflow/175733073715981267/476e5c0417ef4f9fb7b98b6bf13f4144/params/save (stored 0%)\n",
            "  adding: content/runs/mlflow/175733073715981267/476e5c0417ef4f9fb7b98b6bf13f4144/params/task (stored 0%)\n",
            "  adding: content/runs/mlflow/175733073715981267/476e5c0417ef4f9fb7b98b6bf13f4144/params/cos_lr (stored 0%)\n",
            "  adding: content/runs/mlflow/175733073715981267/476e5c0417ef4f9fb7b98b6bf13f4144/params/crop_fraction (stored 0%)\n",
            "  adding: content/runs/mlflow/175733073715981267/476e5c0417ef4f9fb7b98b6bf13f4144/params/rect (stored 0%)\n",
            "  adding: content/runs/mlflow/175733073715981267/476e5c0417ef4f9fb7b98b6bf13f4144/params/box (stored 0%)\n",
            "  adding: content/runs/mlflow/175733073715981267/476e5c0417ef4f9fb7b98b6bf13f4144/params/profile (stored 0%)\n",
            "  adding: content/runs/mlflow/175733073715981267/476e5c0417ef4f9fb7b98b6bf13f4144/params/save_frames (stored 0%)\n",
            "  adding: content/runs/mlflow/175733073715981267/476e5c0417ef4f9fb7b98b6bf13f4144/params/warmup_momentum (stored 0%)\n",
            "  adding: content/runs/mlflow/175733073715981267/476e5c0417ef4f9fb7b98b6bf13f4144/params/multi_scale (stored 0%)\n",
            "  adding: content/runs/mlflow/175733073715981267/476e5c0417ef4f9fb7b98b6bf13f4144/params/erasing (stored 0%)\n",
            "  adding: content/runs/mlflow/175733073715981267/476e5c0417ef4f9fb7b98b6bf13f4144/params/close_mosaic (stored 0%)\n",
            "  adding: content/runs/mlflow/175733073715981267/476e5c0417ef4f9fb7b98b6bf13f4144/params/mosaic (stored 0%)\n",
            "  adding: content/runs/mlflow/175733073715981267/476e5c0417ef4f9fb7b98b6bf13f4144/params/opset (stored 0%)\n",
            "  adding: content/runs/mlflow/175733073715981267/476e5c0417ef4f9fb7b98b6bf13f4144/params/mask_ratio (stored 0%)\n",
            "  adding: content/runs/mlflow/175733073715981267/476e5c0417ef4f9fb7b98b6bf13f4144/params/exist_ok (stored 0%)\n",
            "  adding: content/runs/mlflow/175733073715981267/476e5c0417ef4f9fb7b98b6bf13f4144/params/int8 (stored 0%)\n",
            "  adding: content/runs/mlflow/175733073715981267/476e5c0417ef4f9fb7b98b6bf13f4144/params/flipud (stored 0%)\n",
            "  adding: content/runs/mlflow/175733073715981267/476e5c0417ef4f9fb7b98b6bf13f4144/params/save_dir (stored 0%)\n",
            "  adding: content/runs/mlflow/175733073715981267/476e5c0417ef4f9fb7b98b6bf13f4144/params/cache (stored 0%)\n",
            "  adding: content/runs/mlflow/175733073715981267/476e5c0417ef4f9fb7b98b6bf13f4144/params/translate (stored 0%)\n",
            "  adding: content/runs/mlflow/175733073715981267/476e5c0417ef4f9fb7b98b6bf13f4144/params/dropout (stored 0%)\n",
            "  adding: content/runs/mlflow/175733073715981267/476e5c0417ef4f9fb7b98b6bf13f4144/params/bgr (stored 0%)\n",
            "  adding: content/runs/mlflow/175733073715981267/476e5c0417ef4f9fb7b98b6bf13f4144/params/cls (stored 0%)\n",
            "  adding: content/runs/mlflow/175733073715981267/476e5c0417ef4f9fb7b98b6bf13f4144/params/conf (stored 0%)\n",
            "  adding: content/runs/mlflow/175733073715981267/476e5c0417ef4f9fb7b98b6bf13f4144/params/optimize (stored 0%)\n",
            "  adding: content/runs/mlflow/175733073715981267/476e5c0417ef4f9fb7b98b6bf13f4144/params/fliplr (stored 0%)\n",
            "  adding: content/runs/mlflow/175733073715981267/476e5c0417ef4f9fb7b98b6bf13f4144/params/verbose (stored 0%)\n",
            "  adding: content/runs/mlflow/175733073715981267/476e5c0417ef4f9fb7b98b6bf13f4144/params/workers (stored 0%)\n",
            "  adding: content/runs/mlflow/175733073715981267/476e5c0417ef4f9fb7b98b6bf13f4144/params/simplify (stored 0%)\n",
            "  adding: content/runs/mlflow/175733073715981267/476e5c0417ef4f9fb7b98b6bf13f4144/params/iou (stored 0%)\n",
            "  adding: content/runs/mlflow/175733073715981267/476e5c0417ef4f9fb7b98b6bf13f4144/params/kobj (stored 0%)\n",
            "  adding: content/runs/mlflow/175733073715981267/476e5c0417ef4f9fb7b98b6bf13f4144/params/auto_augment (stored 0%)\n",
            "  adding: content/runs/mlflow/175733073715981267/476e5c0417ef4f9fb7b98b6bf13f4144/params/weight_decay (stored 0%)\n",
            "  adding: content/runs/mlflow/175733073715981267/476e5c0417ef4f9fb7b98b6bf13f4144/params/nms (stored 0%)\n",
            "  adding: content/runs/mlflow/175733073715981267/476e5c0417ef4f9fb7b98b6bf13f4144/params/perspective (stored 0%)\n",
            "  adding: content/runs/mlflow/175733073715981267/476e5c0417ef4f9fb7b98b6bf13f4144/params/save_conf (stored 0%)\n",
            "  adding: content/runs/mlflow/175733073715981267/476e5c0417ef4f9fb7b98b6bf13f4144/params/dynamic (stored 0%)\n",
            "  adding: content/runs/mlflow/175733073715981267/476e5c0417ef4f9fb7b98b6bf13f4144/params/hsv_s (stored 0%)\n",
            "  adding: content/runs/mlflow/175733073715981267/476e5c0417ef4f9fb7b98b6bf13f4144/params/show_boxes (stored 0%)\n",
            "  adding: content/runs/mlflow/175733073715981267/476e5c0417ef4f9fb7b98b6bf13f4144/params/mode (stored 0%)\n",
            "  adding: content/runs/mlflow/175733073715981267/476e5c0417ef4f9fb7b98b6bf13f4144/params/augment (stored 0%)\n",
            "  adding: content/runs/mlflow/175733073715981267/476e5c0417ef4f9fb7b98b6bf13f4144/params/deterministic (stored 0%)\n",
            "  adding: content/runs/mlflow/175733073715981267/476e5c0417ef4f9fb7b98b6bf13f4144/params/time (stored 0%)\n",
            "  adding: content/runs/mlflow/175733073715981267/476e5c0417ef4f9fb7b98b6bf13f4144/params/single_cls (stored 0%)\n",
            "  adding: content/runs/mlflow/175733073715981267/476e5c0417ef4f9fb7b98b6bf13f4144/params/line_width (stored 0%)\n",
            "  adding: content/runs/mlflow/175733073715981267/476e5c0417ef4f9fb7b98b6bf13f4144/params/nbs (stored 0%)\n",
            "  adding: content/runs/mlflow/175733073715981267/476e5c0417ef4f9fb7b98b6bf13f4144/params/warmup_bias_lr (stored 0%)\n",
            "  adding: content/runs/mlflow/175733073715981267/476e5c0417ef4f9fb7b98b6bf13f4144/params/agnostic_nms (stored 0%)\n",
            "  adding: content/runs/mlflow/175733073715981267/476e5c0417ef4f9fb7b98b6bf13f4144/params/keras (stored 0%)\n",
            "  adding: content/runs/mlflow/175733073715981267/476e5c0417ef4f9fb7b98b6bf13f4144/params/amp (stored 0%)\n",
            "  adding: content/runs/mlflow/175733073715981267/476e5c0417ef4f9fb7b98b6bf13f4144/params/freeze (stored 0%)\n",
            "  adding: content/runs/mlflow/175733073715981267/476e5c0417ef4f9fb7b98b6bf13f4144/params/batch (stored 0%)\n",
            "  adding: content/runs/mlflow/175733073715981267/476e5c0417ef4f9fb7b98b6bf13f4144/params/dfl (stored 0%)\n",
            "  adding: content/runs/mlflow/175733073715981267/476e5c0417ef4f9fb7b98b6bf13f4144/params/val (stored 0%)\n",
            "  adding: content/runs/mlflow/175733073715981267/476e5c0417ef4f9fb7b98b6bf13f4144/params/stream_buffer (stored 0%)\n",
            "  adding: content/runs/mlflow/175733073715981267/476e5c0417ef4f9fb7b98b6bf13f4144/params/pretrained (stored 0%)\n",
            "  adding: content/runs/mlflow/175733073715981267/476e5c0417ef4f9fb7b98b6bf13f4144/params/scale (stored 0%)\n",
            "  adding: content/runs/mlflow/175733073715981267/476e5c0417ef4f9fb7b98b6bf13f4144/params/name (stored 0%)\n",
            "  adding: content/runs/mlflow/175733073715981267/476e5c0417ef4f9fb7b98b6bf13f4144/params/tracker (stored 0%)\n",
            "  adding: content/runs/mlflow/175733073715981267/476e5c0417ef4f9fb7b98b6bf13f4144/params/source (stored 0%)\n",
            "  adding: content/runs/mlflow/175733073715981267/476e5c0417ef4f9fb7b98b6bf13f4144/params/data (deflated 6%)\n",
            "  adding: content/runs/mlflow/175733073715981267/476e5c0417ef4f9fb7b98b6bf13f4144/tags/ (stored 0%)\n",
            "  adding: content/runs/mlflow/175733073715981267/476e5c0417ef4f9fb7b98b6bf13f4144/tags/mlflow.user (stored 0%)\n",
            "  adding: content/runs/mlflow/175733073715981267/476e5c0417ef4f9fb7b98b6bf13f4144/tags/mlflow.source.name (deflated 5%)\n",
            "  adding: content/runs/mlflow/175733073715981267/476e5c0417ef4f9fb7b98b6bf13f4144/tags/mlflow.runName (stored 0%)\n",
            "  adding: content/runs/mlflow/175733073715981267/476e5c0417ef4f9fb7b98b6bf13f4144/tags/mlflow.source.type (stored 0%)\n",
            "  adding: content/runs/mlflow/175733073715981267/476e5c0417ef4f9fb7b98b6bf13f4144/metrics/ (stored 0%)\n",
            "  adding: content/runs/mlflow/175733073715981267/476e5c0417ef4f9fb7b98b6bf13f4144/metrics/lr/ (stored 0%)\n",
            "  adding: content/runs/mlflow/175733073715981267/476e5c0417ef4f9fb7b98b6bf13f4144/metrics/lr/pg2 (deflated 57%)\n",
            "  adding: content/runs/mlflow/175733073715981267/476e5c0417ef4f9fb7b98b6bf13f4144/metrics/lr/pg1 (deflated 57%)\n",
            "  adding: content/runs/mlflow/175733073715981267/476e5c0417ef4f9fb7b98b6bf13f4144/metrics/lr/pg0 (deflated 57%)\n",
            "  adding: content/runs/mlflow/175733073715981267/476e5c0417ef4f9fb7b98b6bf13f4144/metrics/val/ (stored 0%)\n",
            "  adding: content/runs/mlflow/175733073715981267/476e5c0417ef4f9fb7b98b6bf13f4144/metrics/val/dfl_loss (deflated 53%)\n",
            "  adding: content/runs/mlflow/175733073715981267/476e5c0417ef4f9fb7b98b6bf13f4144/metrics/val/box_loss (deflated 53%)\n",
            "  adding: content/runs/mlflow/175733073715981267/476e5c0417ef4f9fb7b98b6bf13f4144/metrics/val/cls_loss (deflated 54%)\n",
            "  adding: content/runs/mlflow/175733073715981267/476e5c0417ef4f9fb7b98b6bf13f4144/metrics/train/ (stored 0%)\n",
            "  adding: content/runs/mlflow/175733073715981267/476e5c0417ef4f9fb7b98b6bf13f4144/metrics/train/dfl_loss (deflated 54%)\n",
            "  adding: content/runs/mlflow/175733073715981267/476e5c0417ef4f9fb7b98b6bf13f4144/metrics/train/box_loss (deflated 53%)\n",
            "  adding: content/runs/mlflow/175733073715981267/476e5c0417ef4f9fb7b98b6bf13f4144/metrics/train/cls_loss (deflated 53%)\n",
            "  adding: content/runs/mlflow/175733073715981267/476e5c0417ef4f9fb7b98b6bf13f4144/metrics/metrics/ (stored 0%)\n",
            "  adding: content/runs/mlflow/175733073715981267/476e5c0417ef4f9fb7b98b6bf13f4144/metrics/metrics/recallB (deflated 55%)\n",
            "  adding: content/runs/mlflow/175733073715981267/476e5c0417ef4f9fb7b98b6bf13f4144/metrics/metrics/mAP50B (deflated 55%)\n",
            "  adding: content/runs/mlflow/175733073715981267/476e5c0417ef4f9fb7b98b6bf13f4144/metrics/metrics/mAP50-95B (deflated 55%)\n",
            "  adding: content/runs/mlflow/175733073715981267/476e5c0417ef4f9fb7b98b6bf13f4144/metrics/metrics/precisionB (deflated 55%)\n",
            "  adding: content/runs/mlflow/934188357661747940/ (stored 0%)\n",
            "  adding: content/runs/mlflow/934188357661747940/meta.yaml (deflated 24%)\n",
            "  adding: content/runs/mlflow/934188357661747940/90c04b2073bf47c8b1595b099a75519a/ (stored 0%)\n",
            "  adding: content/runs/mlflow/934188357661747940/90c04b2073bf47c8b1595b099a75519a/artifacts/ (stored 0%)\n",
            "  adding: content/runs/mlflow/934188357661747940/90c04b2073bf47c8b1595b099a75519a/artifacts/confusion_matrix.png (deflated 27%)\n",
            "  adding: content/runs/mlflow/934188357661747940/90c04b2073bf47c8b1595b099a75519a/artifacts/confusion_matrix_normalized.png (deflated 24%)\n",
            "  adding: content/runs/mlflow/934188357661747940/90c04b2073bf47c8b1595b099a75519a/artifacts/labels_correlogram.jpg (deflated 28%)\n",
            "  adding: content/runs/mlflow/934188357661747940/90c04b2073bf47c8b1595b099a75519a/artifacts/P_curve.png (deflated 7%)\n",
            "  adding: content/runs/mlflow/934188357661747940/90c04b2073bf47c8b1595b099a75519a/artifacts/val_batch2_pred.jpg (deflated 7%)\n",
            "  adding: content/runs/mlflow/934188357661747940/90c04b2073bf47c8b1595b099a75519a/artifacts/val_batch1_labels.jpg (deflated 5%)\n",
            "  adding: content/runs/mlflow/934188357661747940/90c04b2073bf47c8b1595b099a75519a/artifacts/train_batch2.jpg (deflated 2%)\n",
            "  adding: content/runs/mlflow/934188357661747940/90c04b2073bf47c8b1595b099a75519a/artifacts/train_batch1.jpg (deflated 2%)\n",
            "  adding: content/runs/mlflow/934188357661747940/90c04b2073bf47c8b1595b099a75519a/artifacts/val_batch0_pred.jpg (deflated 5%)\n",
            "  adding: content/runs/mlflow/934188357661747940/90c04b2073bf47c8b1595b099a75519a/artifacts/results.csv (deflated 80%)\n",
            "  adding: content/runs/mlflow/934188357661747940/90c04b2073bf47c8b1595b099a75519a/artifacts/val_batch1_pred.jpg (deflated 5%)\n",
            "  adding: content/runs/mlflow/934188357661747940/90c04b2073bf47c8b1595b099a75519a/artifacts/args.yaml (deflated 52%)\n",
            "  adding: content/runs/mlflow/934188357661747940/90c04b2073bf47c8b1595b099a75519a/artifacts/R_curve.png (deflated 8%)\n",
            "  adding: content/runs/mlflow/934188357661747940/90c04b2073bf47c8b1595b099a75519a/artifacts/PR_curve.png (deflated 11%)\n",
            "  adding: content/runs/mlflow/934188357661747940/90c04b2073bf47c8b1595b099a75519a/artifacts/val_batch2_labels.jpg (deflated 7%)\n",
            "  adding: content/runs/mlflow/934188357661747940/90c04b2073bf47c8b1595b099a75519a/artifacts/weights/ (stored 0%)\n",
            "  adding: content/runs/mlflow/934188357661747940/90c04b2073bf47c8b1595b099a75519a/artifacts/weights/last.pt (deflated 8%)\n",
            "  adding: content/runs/mlflow/934188357661747940/90c04b2073bf47c8b1595b099a75519a/artifacts/weights/best.pt (deflated 8%)\n",
            "  adding: content/runs/mlflow/934188357661747940/90c04b2073bf47c8b1595b099a75519a/artifacts/labels.jpg (deflated 30%)\n",
            "  adding: content/runs/mlflow/934188357661747940/90c04b2073bf47c8b1595b099a75519a/artifacts/F1_curve.png (deflated 7%)\n",
            "  adding: content/runs/mlflow/934188357661747940/90c04b2073bf47c8b1595b099a75519a/artifacts/val_batch0_labels.jpg (deflated 5%)\n",
            "  adding: content/runs/mlflow/934188357661747940/90c04b2073bf47c8b1595b099a75519a/artifacts/train_batch0.jpg (deflated 1%)\n",
            "  adding: content/runs/mlflow/934188357661747940/90c04b2073bf47c8b1595b099a75519a/artifacts/results.png (deflated 8%)\n",
            "  adding: content/runs/mlflow/934188357661747940/90c04b2073bf47c8b1595b099a75519a/meta.yaml (deflated 45%)\n",
            "  adding: content/runs/mlflow/934188357661747940/90c04b2073bf47c8b1595b099a75519a/params/ (stored 0%)\n",
            "  adding: content/runs/mlflow/934188357661747940/90c04b2073bf47c8b1595b099a75519a/params/hsv_h (stored 0%)\n",
            "  adding: content/runs/mlflow/934188357661747940/90c04b2073bf47c8b1595b099a75519a/params/dnn (stored 0%)\n",
            "  adding: content/runs/mlflow/934188357661747940/90c04b2073bf47c8b1595b099a75519a/params/optimizer (stored 0%)\n",
            "  adding: content/runs/mlflow/934188357661747940/90c04b2073bf47c8b1595b099a75519a/params/degrees (stored 0%)\n",
            "  adding: content/runs/mlflow/934188357661747940/90c04b2073bf47c8b1595b099a75519a/params/project (stored 0%)\n",
            "  adding: content/runs/mlflow/934188357661747940/90c04b2073bf47c8b1595b099a75519a/params/retina_masks (stored 0%)\n",
            "  adding: content/runs/mlflow/934188357661747940/90c04b2073bf47c8b1595b099a75519a/params/save_crop (stored 0%)\n",
            "  adding: content/runs/mlflow/934188357661747940/90c04b2073bf47c8b1595b099a75519a/params/copy_paste (stored 0%)\n",
            "  adding: content/runs/mlflow/934188357661747940/90c04b2073bf47c8b1595b099a75519a/params/patience (stored 0%)\n",
            "  adding: content/runs/mlflow/934188357661747940/90c04b2073bf47c8b1595b099a75519a/params/fraction (stored 0%)\n",
            "  adding: content/runs/mlflow/934188357661747940/90c04b2073bf47c8b1595b099a75519a/params/cfg (stored 0%)\n",
            "  adding: content/runs/mlflow/934188357661747940/90c04b2073bf47c8b1595b099a75519a/params/warmup_epochs (stored 0%)\n",
            "  adding: content/runs/mlflow/934188357661747940/90c04b2073bf47c8b1595b099a75519a/params/half (stored 0%)\n",
            "  adding: content/runs/mlflow/934188357661747940/90c04b2073bf47c8b1595b099a75519a/params/plots (stored 0%)\n",
            "  adding: content/runs/mlflow/934188357661747940/90c04b2073bf47c8b1595b099a75519a/params/save_json (stored 0%)\n",
            "  adding: content/runs/mlflow/934188357661747940/90c04b2073bf47c8b1595b099a75519a/params/workspace (stored 0%)\n",
            "  adding: content/runs/mlflow/934188357661747940/90c04b2073bf47c8b1595b099a75519a/params/save_period (stored 0%)\n",
            "  adding: content/runs/mlflow/934188357661747940/90c04b2073bf47c8b1595b099a75519a/params/save_txt (stored 0%)\n",
            "  adding: content/runs/mlflow/934188357661747940/90c04b2073bf47c8b1595b099a75519a/params/show_labels (stored 0%)\n",
            "  adding: content/runs/mlflow/934188357661747940/90c04b2073bf47c8b1595b099a75519a/params/momentum (stored 0%)\n",
            "  adding: content/runs/mlflow/934188357661747940/90c04b2073bf47c8b1595b099a75519a/params/show (stored 0%)\n",
            "  adding: content/runs/mlflow/934188357661747940/90c04b2073bf47c8b1595b099a75519a/params/vid_stride (stored 0%)\n",
            "  adding: content/runs/mlflow/934188357661747940/90c04b2073bf47c8b1595b099a75519a/params/seed (stored 0%)\n",
            "  adding: content/runs/mlflow/934188357661747940/90c04b2073bf47c8b1595b099a75519a/params/lr0 (stored 0%)\n",
            "  adding: content/runs/mlflow/934188357661747940/90c04b2073bf47c8b1595b099a75519a/params/overlap_mask (stored 0%)\n",
            "  adding: content/runs/mlflow/934188357661747940/90c04b2073bf47c8b1595b099a75519a/params/device (stored 0%)\n",
            "  adding: content/runs/mlflow/934188357661747940/90c04b2073bf47c8b1595b099a75519a/params/split (stored 0%)\n",
            "  adding: content/runs/mlflow/934188357661747940/90c04b2073bf47c8b1595b099a75519a/params/imgsz (stored 0%)\n",
            "  adding: content/runs/mlflow/934188357661747940/90c04b2073bf47c8b1595b099a75519a/params/epochs (stored 0%)\n",
            "  adding: content/runs/mlflow/934188357661747940/90c04b2073bf47c8b1595b099a75519a/params/pose (stored 0%)\n",
            "  adding: content/runs/mlflow/934188357661747940/90c04b2073bf47c8b1595b099a75519a/params/embed (stored 0%)\n",
            "  adding: content/runs/mlflow/934188357661747940/90c04b2073bf47c8b1595b099a75519a/params/classes (stored 0%)\n",
            "  adding: content/runs/mlflow/934188357661747940/90c04b2073bf47c8b1595b099a75519a/params/lrf (stored 0%)\n",
            "  adding: content/runs/mlflow/934188357661747940/90c04b2073bf47c8b1595b099a75519a/params/resume (stored 0%)\n",
            "  adding: content/runs/mlflow/934188357661747940/90c04b2073bf47c8b1595b099a75519a/params/mixup (stored 0%)\n",
            "  adding: content/runs/mlflow/934188357661747940/90c04b2073bf47c8b1595b099a75519a/params/label_smoothing (stored 0%)\n",
            "  adding: content/runs/mlflow/934188357661747940/90c04b2073bf47c8b1595b099a75519a/params/visualize (stored 0%)\n",
            "  adding: content/runs/mlflow/934188357661747940/90c04b2073bf47c8b1595b099a75519a/params/model (stored 0%)\n",
            "  adding: content/runs/mlflow/934188357661747940/90c04b2073bf47c8b1595b099a75519a/params/hsv_v (stored 0%)\n",
            "  adding: content/runs/mlflow/934188357661747940/90c04b2073bf47c8b1595b099a75519a/params/show_conf (stored 0%)\n",
            "  adding: content/runs/mlflow/934188357661747940/90c04b2073bf47c8b1595b099a75519a/params/save_hybrid (stored 0%)\n",
            "  adding: content/runs/mlflow/934188357661747940/90c04b2073bf47c8b1595b099a75519a/params/format (stored 0%)\n",
            "  adding: content/runs/mlflow/934188357661747940/90c04b2073bf47c8b1595b099a75519a/params/max_det (stored 0%)\n",
            "  adding: content/runs/mlflow/934188357661747940/90c04b2073bf47c8b1595b099a75519a/params/shear (stored 0%)\n",
            "  adding: content/runs/mlflow/934188357661747940/90c04b2073bf47c8b1595b099a75519a/params/save (stored 0%)\n",
            "  adding: content/runs/mlflow/934188357661747940/90c04b2073bf47c8b1595b099a75519a/params/task (stored 0%)\n",
            "  adding: content/runs/mlflow/934188357661747940/90c04b2073bf47c8b1595b099a75519a/params/cos_lr (stored 0%)\n",
            "  adding: content/runs/mlflow/934188357661747940/90c04b2073bf47c8b1595b099a75519a/params/crop_fraction (stored 0%)\n",
            "  adding: content/runs/mlflow/934188357661747940/90c04b2073bf47c8b1595b099a75519a/params/rect (stored 0%)\n",
            "  adding: content/runs/mlflow/934188357661747940/90c04b2073bf47c8b1595b099a75519a/params/box (stored 0%)\n",
            "  adding: content/runs/mlflow/934188357661747940/90c04b2073bf47c8b1595b099a75519a/params/profile (stored 0%)\n",
            "  adding: content/runs/mlflow/934188357661747940/90c04b2073bf47c8b1595b099a75519a/params/save_frames (stored 0%)\n",
            "  adding: content/runs/mlflow/934188357661747940/90c04b2073bf47c8b1595b099a75519a/params/warmup_momentum (stored 0%)\n",
            "  adding: content/runs/mlflow/934188357661747940/90c04b2073bf47c8b1595b099a75519a/params/multi_scale (stored 0%)\n",
            "  adding: content/runs/mlflow/934188357661747940/90c04b2073bf47c8b1595b099a75519a/params/erasing (stored 0%)\n",
            "  adding: content/runs/mlflow/934188357661747940/90c04b2073bf47c8b1595b099a75519a/params/close_mosaic (stored 0%)\n",
            "  adding: content/runs/mlflow/934188357661747940/90c04b2073bf47c8b1595b099a75519a/params/mosaic (stored 0%)\n",
            "  adding: content/runs/mlflow/934188357661747940/90c04b2073bf47c8b1595b099a75519a/params/opset (stored 0%)\n",
            "  adding: content/runs/mlflow/934188357661747940/90c04b2073bf47c8b1595b099a75519a/params/mask_ratio (stored 0%)\n",
            "  adding: content/runs/mlflow/934188357661747940/90c04b2073bf47c8b1595b099a75519a/params/exist_ok (stored 0%)\n",
            "  adding: content/runs/mlflow/934188357661747940/90c04b2073bf47c8b1595b099a75519a/params/int8 (stored 0%)\n",
            "  adding: content/runs/mlflow/934188357661747940/90c04b2073bf47c8b1595b099a75519a/params/flipud (stored 0%)\n",
            "  adding: content/runs/mlflow/934188357661747940/90c04b2073bf47c8b1595b099a75519a/params/save_dir (stored 0%)\n",
            "  adding: content/runs/mlflow/934188357661747940/90c04b2073bf47c8b1595b099a75519a/params/cache (stored 0%)\n",
            "  adding: content/runs/mlflow/934188357661747940/90c04b2073bf47c8b1595b099a75519a/params/translate (stored 0%)\n",
            "  adding: content/runs/mlflow/934188357661747940/90c04b2073bf47c8b1595b099a75519a/params/dropout (stored 0%)\n",
            "  adding: content/runs/mlflow/934188357661747940/90c04b2073bf47c8b1595b099a75519a/params/bgr (stored 0%)\n",
            "  adding: content/runs/mlflow/934188357661747940/90c04b2073bf47c8b1595b099a75519a/params/cls (stored 0%)\n",
            "  adding: content/runs/mlflow/934188357661747940/90c04b2073bf47c8b1595b099a75519a/params/conf (stored 0%)\n",
            "  adding: content/runs/mlflow/934188357661747940/90c04b2073bf47c8b1595b099a75519a/params/optimize (stored 0%)\n",
            "  adding: content/runs/mlflow/934188357661747940/90c04b2073bf47c8b1595b099a75519a/params/fliplr (stored 0%)\n",
            "  adding: content/runs/mlflow/934188357661747940/90c04b2073bf47c8b1595b099a75519a/params/verbose (stored 0%)\n",
            "  adding: content/runs/mlflow/934188357661747940/90c04b2073bf47c8b1595b099a75519a/params/workers (stored 0%)\n",
            "  adding: content/runs/mlflow/934188357661747940/90c04b2073bf47c8b1595b099a75519a/params/simplify (stored 0%)\n",
            "  adding: content/runs/mlflow/934188357661747940/90c04b2073bf47c8b1595b099a75519a/params/iou (stored 0%)\n",
            "  adding: content/runs/mlflow/934188357661747940/90c04b2073bf47c8b1595b099a75519a/params/kobj (stored 0%)\n",
            "  adding: content/runs/mlflow/934188357661747940/90c04b2073bf47c8b1595b099a75519a/params/auto_augment (stored 0%)\n",
            "  adding: content/runs/mlflow/934188357661747940/90c04b2073bf47c8b1595b099a75519a/params/weight_decay (stored 0%)\n",
            "  adding: content/runs/mlflow/934188357661747940/90c04b2073bf47c8b1595b099a75519a/params/nms (stored 0%)\n",
            "  adding: content/runs/mlflow/934188357661747940/90c04b2073bf47c8b1595b099a75519a/params/perspective (stored 0%)\n",
            "  adding: content/runs/mlflow/934188357661747940/90c04b2073bf47c8b1595b099a75519a/params/save_conf (stored 0%)\n",
            "  adding: content/runs/mlflow/934188357661747940/90c04b2073bf47c8b1595b099a75519a/params/dynamic (stored 0%)\n",
            "  adding: content/runs/mlflow/934188357661747940/90c04b2073bf47c8b1595b099a75519a/params/hsv_s (stored 0%)\n",
            "  adding: content/runs/mlflow/934188357661747940/90c04b2073bf47c8b1595b099a75519a/params/show_boxes (stored 0%)\n",
            "  adding: content/runs/mlflow/934188357661747940/90c04b2073bf47c8b1595b099a75519a/params/mode (stored 0%)\n",
            "  adding: content/runs/mlflow/934188357661747940/90c04b2073bf47c8b1595b099a75519a/params/augment (stored 0%)\n",
            "  adding: content/runs/mlflow/934188357661747940/90c04b2073bf47c8b1595b099a75519a/params/deterministic (stored 0%)\n",
            "  adding: content/runs/mlflow/934188357661747940/90c04b2073bf47c8b1595b099a75519a/params/time (stored 0%)\n",
            "  adding: content/runs/mlflow/934188357661747940/90c04b2073bf47c8b1595b099a75519a/params/single_cls (stored 0%)\n",
            "  adding: content/runs/mlflow/934188357661747940/90c04b2073bf47c8b1595b099a75519a/params/line_width (stored 0%)\n",
            "  adding: content/runs/mlflow/934188357661747940/90c04b2073bf47c8b1595b099a75519a/params/nbs (stored 0%)\n",
            "  adding: content/runs/mlflow/934188357661747940/90c04b2073bf47c8b1595b099a75519a/params/warmup_bias_lr (stored 0%)\n",
            "  adding: content/runs/mlflow/934188357661747940/90c04b2073bf47c8b1595b099a75519a/params/agnostic_nms (stored 0%)\n",
            "  adding: content/runs/mlflow/934188357661747940/90c04b2073bf47c8b1595b099a75519a/params/keras (stored 0%)\n",
            "  adding: content/runs/mlflow/934188357661747940/90c04b2073bf47c8b1595b099a75519a/params/amp (stored 0%)\n",
            "  adding: content/runs/mlflow/934188357661747940/90c04b2073bf47c8b1595b099a75519a/params/freeze (stored 0%)\n",
            "  adding: content/runs/mlflow/934188357661747940/90c04b2073bf47c8b1595b099a75519a/params/batch (stored 0%)\n",
            "  adding: content/runs/mlflow/934188357661747940/90c04b2073bf47c8b1595b099a75519a/params/dfl (stored 0%)\n",
            "  adding: content/runs/mlflow/934188357661747940/90c04b2073bf47c8b1595b099a75519a/params/val (stored 0%)\n",
            "  adding: content/runs/mlflow/934188357661747940/90c04b2073bf47c8b1595b099a75519a/params/stream_buffer (stored 0%)\n",
            "  adding: content/runs/mlflow/934188357661747940/90c04b2073bf47c8b1595b099a75519a/params/pretrained (stored 0%)\n",
            "  adding: content/runs/mlflow/934188357661747940/90c04b2073bf47c8b1595b099a75519a/params/scale (stored 0%)\n",
            "  adding: content/runs/mlflow/934188357661747940/90c04b2073bf47c8b1595b099a75519a/params/name (stored 0%)\n",
            "  adding: content/runs/mlflow/934188357661747940/90c04b2073bf47c8b1595b099a75519a/params/tracker (stored 0%)\n",
            "  adding: content/runs/mlflow/934188357661747940/90c04b2073bf47c8b1595b099a75519a/params/source (stored 0%)\n",
            "  adding: content/runs/mlflow/934188357661747940/90c04b2073bf47c8b1595b099a75519a/params/data (deflated 6%)\n",
            "  adding: content/runs/mlflow/934188357661747940/90c04b2073bf47c8b1595b099a75519a/tags/ (stored 0%)\n",
            "  adding: content/runs/mlflow/934188357661747940/90c04b2073bf47c8b1595b099a75519a/tags/mlflow.user (stored 0%)\n",
            "  adding: content/runs/mlflow/934188357661747940/90c04b2073bf47c8b1595b099a75519a/tags/mlflow.source.name (deflated 5%)\n",
            "  adding: content/runs/mlflow/934188357661747940/90c04b2073bf47c8b1595b099a75519a/tags/mlflow.runName (stored 0%)\n",
            "  adding: content/runs/mlflow/934188357661747940/90c04b2073bf47c8b1595b099a75519a/tags/mlflow.source.type (stored 0%)\n",
            "  adding: content/runs/mlflow/934188357661747940/90c04b2073bf47c8b1595b099a75519a/metrics/ (stored 0%)\n",
            "  adding: content/runs/mlflow/934188357661747940/90c04b2073bf47c8b1595b099a75519a/metrics/lr/ (stored 0%)\n",
            "  adding: content/runs/mlflow/934188357661747940/90c04b2073bf47c8b1595b099a75519a/metrics/lr/pg2 (deflated 48%)\n",
            "  adding: content/runs/mlflow/934188357661747940/90c04b2073bf47c8b1595b099a75519a/metrics/lr/pg1 (deflated 48%)\n",
            "  adding: content/runs/mlflow/934188357661747940/90c04b2073bf47c8b1595b099a75519a/metrics/lr/pg0 (deflated 48%)\n",
            "  adding: content/runs/mlflow/934188357661747940/90c04b2073bf47c8b1595b099a75519a/metrics/val/ (stored 0%)\n",
            "  adding: content/runs/mlflow/934188357661747940/90c04b2073bf47c8b1595b099a75519a/metrics/val/dfl_loss (deflated 40%)\n",
            "  adding: content/runs/mlflow/934188357661747940/90c04b2073bf47c8b1595b099a75519a/metrics/val/box_loss (deflated 41%)\n",
            "  adding: content/runs/mlflow/934188357661747940/90c04b2073bf47c8b1595b099a75519a/metrics/val/cls_loss (deflated 40%)\n",
            "  adding: content/runs/mlflow/934188357661747940/90c04b2073bf47c8b1595b099a75519a/metrics/train/ (stored 0%)\n",
            "  adding: content/runs/mlflow/934188357661747940/90c04b2073bf47c8b1595b099a75519a/metrics/train/dfl_loss (deflated 41%)\n",
            "  adding: content/runs/mlflow/934188357661747940/90c04b2073bf47c8b1595b099a75519a/metrics/train/box_loss (deflated 42%)\n",
            "  adding: content/runs/mlflow/934188357661747940/90c04b2073bf47c8b1595b099a75519a/metrics/train/cls_loss (deflated 41%)\n",
            "  adding: content/runs/mlflow/934188357661747940/90c04b2073bf47c8b1595b099a75519a/metrics/metrics/ (stored 0%)\n",
            "  adding: content/runs/mlflow/934188357661747940/90c04b2073bf47c8b1595b099a75519a/metrics/metrics/recallB (deflated 46%)\n",
            "  adding: content/runs/mlflow/934188357661747940/90c04b2073bf47c8b1595b099a75519a/metrics/metrics/mAP50B (deflated 46%)\n",
            "  adding: content/runs/mlflow/934188357661747940/90c04b2073bf47c8b1595b099a75519a/metrics/metrics/mAP50-95B (deflated 45%)\n",
            "  adding: content/runs/mlflow/934188357661747940/90c04b2073bf47c8b1595b099a75519a/metrics/metrics/precisionB (deflated 47%)\n",
            "  adding: content/runs/mlflow/934188357661747940/tags/ (stored 0%)\n",
            "  adding: content/runs/mlflow/934188357661747940/tags/mlflow.sharedViewState.7f09c09b56a5a01e88c0b13f1e9f581245321c9267d802193d064cd30ac65a94 (deflated 43%)\n",
            "  adding: content/runs/mlflow/0/ (stored 0%)\n",
            "  adding: content/runs/mlflow/0/meta.yaml (deflated 24%)\n"
          ]
        }
      ]
    },
    {
      "cell_type": "code",
      "source": [
        "from google.colab import files\n",
        "files.download(\"/content/runs.zip\")\n",
        "# files.download(\"/content/mlruns.zip\")"
      ],
      "metadata": {
        "colab": {
          "base_uri": "https://localhost:8080/",
          "height": 34
        },
        "id": "wY9XdEXUwV1l",
        "outputId": "4de001de-b6f7-4569-99f5-7022e55d94b6"
      },
      "execution_count": 24,
      "outputs": [
        {
          "output_type": "display_data",
          "data": {
            "text/plain": [
              "<IPython.core.display.Javascript object>"
            ],
            "application/javascript": [
              "\n",
              "    async function download(id, filename, size) {\n",
              "      if (!google.colab.kernel.accessAllowed) {\n",
              "        return;\n",
              "      }\n",
              "      const div = document.createElement('div');\n",
              "      const label = document.createElement('label');\n",
              "      label.textContent = `Downloading \"${filename}\": `;\n",
              "      div.appendChild(label);\n",
              "      const progress = document.createElement('progress');\n",
              "      progress.max = size;\n",
              "      div.appendChild(progress);\n",
              "      document.body.appendChild(div);\n",
              "\n",
              "      const buffers = [];\n",
              "      let downloaded = 0;\n",
              "\n",
              "      const channel = await google.colab.kernel.comms.open(id);\n",
              "      // Send a message to notify the kernel that we're ready.\n",
              "      channel.send({})\n",
              "\n",
              "      for await (const message of channel.messages) {\n",
              "        // Send a message to notify the kernel that we're ready.\n",
              "        channel.send({})\n",
              "        if (message.buffers) {\n",
              "          for (const buffer of message.buffers) {\n",
              "            buffers.push(buffer);\n",
              "            downloaded += buffer.byteLength;\n",
              "            progress.value = downloaded;\n",
              "          }\n",
              "        }\n",
              "      }\n",
              "      const blob = new Blob(buffers, {type: 'application/binary'});\n",
              "      const a = document.createElement('a');\n",
              "      a.href = window.URL.createObjectURL(blob);\n",
              "      a.download = filename;\n",
              "      div.appendChild(a);\n",
              "      a.click();\n",
              "      div.remove();\n",
              "    }\n",
              "  "
            ]
          },
          "metadata": {}
        },
        {
          "output_type": "display_data",
          "data": {
            "text/plain": [
              "<IPython.core.display.Javascript object>"
            ],
            "application/javascript": [
              "download(\"download_1a803104-3787-4689-a6c5-15676dd5f8c6\", \"runs.zip\", 411664692)"
            ]
          },
          "metadata": {}
        }
      ]
    },
    {
      "cell_type": "code",
      "source": [
        "from pyngrok import ngrok\n",
        "# Terminate open tunnels if exist\n",
        "ngrok.kill()\n",
        "# Setting the authtoken (optional)\n",
        "# Get your authtoken from https://dashboard.ngrok.com/auth\n",
        "NGROK_AUTH_TOKEN = \"2eMW4rTB5k74457GPpWBuUo0g16_6NSkV4Qd9T7uFg9hvmBe8\"\n",
        "ngrok.set_auth_token(NGROK_AUTH_TOKEN)\n",
        "# Open an HTTPs tunnel on port 5000 for http://localhost: 5000\n",
        "ngrok_tunnel = ngrok.connect(addr=\"5000\", proto=\"http\", bind_tls=True)\n",
        "print(\"MLflow Tracking UI:\", ngrok_tunnel.public_url)"
      ],
      "metadata": {
        "colab": {
          "base_uri": "https://localhost:8080/"
        },
        "id": "zHVqIf5AHWXD",
        "outputId": "4a7d2a02-c371-4a14-84cf-86ea16da201f"
      },
      "execution_count": 32,
      "outputs": [
        {
          "output_type": "stream",
          "name": "stderr",
          "text": [
            "Exception in thread Thread-66 (_monitor_process):\n",
            "Traceback (most recent call last):\n",
            "  File \"/usr/lib/python3.10/threading.py\", line 1016, in _bootstrap_inner\n",
            "    self.run()\n",
            "  File \"/usr/lib/python3.10/threading.py\", line 953, in run\n",
            "    self._target(*self._args, **self._kwargs)\n",
            "  File \"/usr/local/lib/python3.10/dist-packages/pyngrok/process.py\", line 139, in _monitor_process\n",
            "    self._log_line(self.proc.stdout.readline())\n",
            "  File \"/usr/lib/python3.10/encodings/ascii.py\", line 26, in decode\n",
            "    return codecs.ascii_decode(input, self.errors)[0]\n",
            "UnicodeDecodeError: 'ascii' codec can't decode byte 0xc2 in position 184: ordinal not in range(128)\n"
          ]
        },
        {
          "output_type": "stream",
          "name": "stdout",
          "text": [
            "MLflow Tracking UI: https://47f2-34-87-64-217.ngrok-free.app\n"
          ]
        }
      ]
    },
    {
      "cell_type": "code",
      "source": [
        "!mlflow server --backend-store-uri /content/runs/mlflow"
      ],
      "metadata": {
        "colab": {
          "base_uri": "https://localhost:8080/"
        },
        "id": "IvrLjXzLEH8C",
        "outputId": "9c3d3cc7-6d0b-4e6e-fac4-05bf2013aae5"
      },
      "execution_count": null,
      "outputs": [
        {
          "output_type": "stream",
          "name": "stdout",
          "text": [
            "[2024-03-29 18:57:42 +0000] [30011] [INFO] Starting gunicorn 21.2.0\n",
            "[2024-03-29 18:57:42 +0000] [30011] [INFO] Listening at: http://127.0.0.1:5000 (30011)\n",
            "[2024-03-29 18:57:42 +0000] [30011] [INFO] Using worker: sync\n",
            "[2024-03-29 18:57:42 +0000] [30016] [INFO] Booting worker with pid: 30016\n",
            "[2024-03-29 18:57:42 +0000] [30017] [INFO] Booting worker with pid: 30017\n",
            "[2024-03-29 18:57:42 +0000] [30018] [INFO] Booting worker with pid: 30018\n",
            "[2024-03-29 18:57:42 +0000] [30019] [INFO] Booting worker with pid: 30019\n"
          ]
        }
      ]
    },
    {
      "cell_type": "code",
      "source": [
        "model_v2 = YOLO('/content/runs/detect/train22/weights/best.pt')\n",
        "model_v2.export(format='onnx')"
      ],
      "metadata": {
        "colab": {
          "base_uri": "https://localhost:8080/",
          "height": 480
        },
        "id": "XZ6H9x5ljIyX",
        "outputId": "ea61b566-f97e-4220-80bb-bfe6b8f51da1"
      },
      "execution_count": 31,
      "outputs": [
        {
          "output_type": "stream",
          "name": "stdout",
          "text": [
            "Ultralytics YOLOv8.1.37 🚀 Python-3.10.12 torch-2.2.1+cu121 CPU (Intel Xeon 2.20GHz)\n",
            "YOLOv9c summary (fused): 384 layers, 25323103 parameters, 0 gradients, 102.3 GFLOPs\n",
            "\n",
            "\u001b[34m\u001b[1mPyTorch:\u001b[0m starting from '/content/runs/detect/train22/weights/best.pt' with input shape (1, 3, 640, 640) BCHW and output shape(s) (1, 9, 8400) (49.2 MB)\n",
            "\u001b[31m\u001b[1mrequirements:\u001b[0m Ultralytics requirement ['onnx>=1.12.0'] not found, attempting AutoUpdate...\n",
            "Collecting onnx>=1.12.0\n",
            "  Downloading onnx-1.16.0-cp310-cp310-manylinux_2_17_x86_64.manylinux2014_x86_64.whl (15.9 MB)\n",
            "     ━━━━━━━━━━━━━━━━━━━━━━━━━━━━━━━━━━━━━━━━ 15.9/15.9 MB 200.6 MB/s eta 0:00:00\n",
            "Requirement already satisfied: numpy>=1.20 in /usr/local/lib/python3.10/dist-packages (from onnx>=1.12.0) (1.25.2)\n",
            "Requirement already satisfied: protobuf>=3.20.2 in /usr/local/lib/python3.10/dist-packages (from onnx>=1.12.0) (3.20.3)\n",
            "Installing collected packages: onnx\n",
            "Successfully installed onnx-1.16.0\n",
            "\n",
            "\u001b[31m\u001b[1mrequirements:\u001b[0m AutoUpdate success ✅ 10.1s, installed 1 package: ['onnx>=1.12.0']\n",
            "\u001b[31m\u001b[1mrequirements:\u001b[0m ⚠️ \u001b[1mRestart runtime or rerun command for updates to take effect\u001b[0m\n",
            "\n",
            "\n",
            "\u001b[34m\u001b[1mONNX:\u001b[0m starting export with onnx 1.16.0 opset 17...\n",
            "\u001b[34m\u001b[1mONNX:\u001b[0m export success ✅ 16.0s, saved as '/content/runs/detect/train22/weights/best.onnx' (96.9 MB)\n",
            "\n",
            "Export complete (21.7s)\n",
            "Results saved to \u001b[1m/content/runs/detect/train22/weights\u001b[0m\n",
            "Predict:         yolo predict task=detect model=/content/runs/detect/train22/weights/best.onnx imgsz=640  \n",
            "Validate:        yolo val task=detect model=/content/runs/detect/train22/weights/best.onnx imgsz=640 data=/content/Construction-PPE-Detection-1/data.yaml  \n",
            "Visualize:       https://netron.app\n"
          ]
        },
        {
          "output_type": "execute_result",
          "data": {
            "text/plain": [
              "'/content/runs/detect/train22/weights/best.onnx'"
            ],
            "application/vnd.google.colaboratory.intrinsic+json": {
              "type": "string"
            }
          },
          "metadata": {},
          "execution_count": 31
        }
      ]
    }
  ]
}